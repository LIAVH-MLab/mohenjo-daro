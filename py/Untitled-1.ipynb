{
 "cells": [
  {
   "cell_type": "code",
   "execution_count": null,
   "metadata": {},
   "outputs": [],
   "source": []
  },
  {
   "cell_type": "code",
   "execution_count": 1,
   "metadata": {},
   "outputs": [],
   "source": [
    "#%% ----------- IMPORT ------------------------\n",
    "import numpy as np\n",
    "import pandas as pd\n",
    "import geopandas as gpd\n",
    "import requests\n",
    "import matplotlib.pyplot as plt\n",
    "import plotly.graph_objects as go\n"
   ]
  },
  {
   "cell_type": "code",
   "execution_count": 30,
   "metadata": {},
   "outputs": [],
   "source": [
    "# da = pd.read_csv( \"https://raw.githubusercontent.com/PrattSAVI/LIAVH/master/data/Artifacts.csv\" , engine = 'python')\n",
    "# ds = pd.read_csv( \"https://raw.githubusercontent.com/PrattSAVI/LIAVH/master/data/Doorsils_and_Floor_Features_Level_Refs_Mackay.csv\" , engine = 'python')\n",
    "\n",
    "ds = pd.read_csv(\"/Users/saraeichner/Desktop/github/mohenjo-daro/data/Doorsils_and_Floor_Features_Level_Refs_Mackay.csv\", encoding='unicode_escape')\n",
    "da = pd.read_csv(\"/Users/saraeichner/Desktop/github/mohenjo-daro/data/Artifacts.csv\",encoding='unicode_escape')"
   ]
  },
  {
   "cell_type": "code",
   "execution_count": 31,
   "metadata": {},
   "outputs": [
    {
     "data": {
      "text/html": [
       "<div>\n",
       "<style scoped>\n",
       "    .dataframe tbody tr th:only-of-type {\n",
       "        vertical-align: middle;\n",
       "    }\n",
       "\n",
       "    .dataframe tbody tr th {\n",
       "        vertical-align: top;\n",
       "    }\n",
       "\n",
       "    .dataframe thead th {\n",
       "        text-align: right;\n",
       "    }\n",
       "</style>\n",
       "<table border=\"1\" class=\"dataframe\">\n",
       "  <thead>\n",
       "    <tr style=\"text-align: right;\">\n",
       "      <th></th>\n",
       "      <th>obj_plate_obj_ID</th>\n",
       "      <th>obj_plate</th>\n",
       "      <th>obj_plate_roman</th>\n",
       "      <th>obj_plate_num</th>\n",
       "      <th>obj_geo_B-U-S</th>\n",
       "      <th>obj_block</th>\n",
       "      <th>obj_house</th>\n",
       "      <th>obj_house_roman</th>\n",
       "      <th>obj_room</th>\n",
       "      <th>obj_geo_B-U-S_2</th>\n",
       "      <th>...</th>\n",
       "      <th>ptpb_paints_purple_black</th>\n",
       "      <th>ptpb_paints_red</th>\n",
       "      <th>ptpb_paints_white</th>\n",
       "      <th>ptpb_trimming</th>\n",
       "      <th>seal_type</th>\n",
       "      <th>seal_material</th>\n",
       "      <th>seal_dimensions_L_in</th>\n",
       "      <th>seal_dimensions_W_in</th>\n",
       "      <th>seal_dimensions_T_in</th>\n",
       "      <th>seal_dimensions_in_orig</th>\n",
       "    </tr>\n",
       "  </thead>\n",
       "  <tbody>\n",
       "    <tr>\n",
       "      <th>0</th>\n",
       "      <td>074-001-X</td>\n",
       "      <td>74</td>\n",
       "      <td>LXXIV</td>\n",
       "      <td>1</td>\n",
       "      <td>14-X-01-04-X</td>\n",
       "      <td>14</td>\n",
       "      <td>1.0</td>\n",
       "      <td>I</td>\n",
       "      <td>4</td>\n",
       "      <td>NaN</td>\n",
       "      <td>...</td>\n",
       "      <td>NaN</td>\n",
       "      <td>NaN</td>\n",
       "      <td>NaN</td>\n",
       "      <td>NaN</td>\n",
       "      <td>NaN</td>\n",
       "      <td>NaN</td>\n",
       "      <td>NaN</td>\n",
       "      <td>NaN</td>\n",
       "      <td>NaN</td>\n",
       "      <td>NaN</td>\n",
       "    </tr>\n",
       "    <tr>\n",
       "      <th>1</th>\n",
       "      <td>074-002-X</td>\n",
       "      <td>74</td>\n",
       "      <td>LXXIV</td>\n",
       "      <td>2</td>\n",
       "      <td>13-X-02-07-X</td>\n",
       "      <td>13</td>\n",
       "      <td>2.0</td>\n",
       "      <td>II</td>\n",
       "      <td>7</td>\n",
       "      <td>NaN</td>\n",
       "      <td>...</td>\n",
       "      <td>NaN</td>\n",
       "      <td>NaN</td>\n",
       "      <td>NaN</td>\n",
       "      <td>NaN</td>\n",
       "      <td>NaN</td>\n",
       "      <td>NaN</td>\n",
       "      <td>NaN</td>\n",
       "      <td>NaN</td>\n",
       "      <td>NaN</td>\n",
       "      <td>NaN</td>\n",
       "    </tr>\n",
       "    <tr>\n",
       "      <th>2</th>\n",
       "      <td>074-003-X</td>\n",
       "      <td>74</td>\n",
       "      <td>LXXIV</td>\n",
       "      <td>3</td>\n",
       "      <td>13-X-03-19-X</td>\n",
       "      <td>13</td>\n",
       "      <td>3.0</td>\n",
       "      <td>III</td>\n",
       "      <td>19</td>\n",
       "      <td>NaN</td>\n",
       "      <td>...</td>\n",
       "      <td>NaN</td>\n",
       "      <td>NaN</td>\n",
       "      <td>NaN</td>\n",
       "      <td>NaN</td>\n",
       "      <td>NaN</td>\n",
       "      <td>NaN</td>\n",
       "      <td>NaN</td>\n",
       "      <td>NaN</td>\n",
       "      <td>NaN</td>\n",
       "      <td>NaN</td>\n",
       "    </tr>\n",
       "    <tr>\n",
       "      <th>3</th>\n",
       "      <td>074-004-X</td>\n",
       "      <td>74</td>\n",
       "      <td>LXXIV</td>\n",
       "      <td>4</td>\n",
       "      <td>25-X-02-15-X</td>\n",
       "      <td>25</td>\n",
       "      <td>2.0</td>\n",
       "      <td>II</td>\n",
       "      <td>15</td>\n",
       "      <td>NaN</td>\n",
       "      <td>...</td>\n",
       "      <td>NaN</td>\n",
       "      <td>NaN</td>\n",
       "      <td>NaN</td>\n",
       "      <td>NaN</td>\n",
       "      <td>NaN</td>\n",
       "      <td>NaN</td>\n",
       "      <td>NaN</td>\n",
       "      <td>NaN</td>\n",
       "      <td>NaN</td>\n",
       "      <td>NaN</td>\n",
       "    </tr>\n",
       "    <tr>\n",
       "      <th>4</th>\n",
       "      <td>074-005-X</td>\n",
       "      <td>74</td>\n",
       "      <td>LXXIV</td>\n",
       "      <td>5</td>\n",
       "      <td>18-X-00-110-X</td>\n",
       "      <td>18</td>\n",
       "      <td>0.0</td>\n",
       "      <td>NaN</td>\n",
       "      <td>110</td>\n",
       "      <td>NaN</td>\n",
       "      <td>...</td>\n",
       "      <td>NaN</td>\n",
       "      <td>NaN</td>\n",
       "      <td>NaN</td>\n",
       "      <td>NaN</td>\n",
       "      <td>NaN</td>\n",
       "      <td>NaN</td>\n",
       "      <td>NaN</td>\n",
       "      <td>NaN</td>\n",
       "      <td>NaN</td>\n",
       "      <td>NaN</td>\n",
       "    </tr>\n",
       "  </tbody>\n",
       "</table>\n",
       "<p>5 rows × 129 columns</p>\n",
       "</div>"
      ],
      "text/plain": [
       "  obj_plate_obj_ID  obj_plate obj_plate_roman obj_plate_num  obj_geo_B-U-S  \\\n",
       "0        074-001-X         74           LXXIV             1   14-X-01-04-X   \n",
       "1        074-002-X         74           LXXIV             2   13-X-02-07-X   \n",
       "2        074-003-X         74           LXXIV             3   13-X-03-19-X   \n",
       "3        074-004-X         74           LXXIV             4   25-X-02-15-X   \n",
       "4        074-005-X         74           LXXIV             5  18-X-00-110-X   \n",
       "\n",
       "  obj_block  obj_house obj_house_roman obj_room obj_geo_B-U-S_2  ...  \\\n",
       "0        14        1.0               I        4             NaN  ...   \n",
       "1        13        2.0              II        7             NaN  ...   \n",
       "2        13        3.0             III       19             NaN  ...   \n",
       "3        25        2.0              II       15             NaN  ...   \n",
       "4        18        0.0             NaN      110             NaN  ...   \n",
       "\n",
       "  ptpb_paints_purple_black  ptpb_paints_red ptpb_paints_white  ptpb_trimming  \\\n",
       "0                      NaN              NaN               NaN            NaN   \n",
       "1                      NaN              NaN               NaN            NaN   \n",
       "2                      NaN              NaN               NaN            NaN   \n",
       "3                      NaN              NaN               NaN            NaN   \n",
       "4                      NaN              NaN               NaN            NaN   \n",
       "\n",
       "  seal_type seal_material seal_dimensions_L_in seal_dimensions_W_in  \\\n",
       "0       NaN           NaN                  NaN                  NaN   \n",
       "1       NaN           NaN                  NaN                  NaN   \n",
       "2       NaN           NaN                  NaN                  NaN   \n",
       "3       NaN           NaN                  NaN                  NaN   \n",
       "4       NaN           NaN                  NaN                  NaN   \n",
       "\n",
       "  seal_dimensions_T_in seal_dimensions_in_orig  \n",
       "0                  NaN                     NaN  \n",
       "1                  NaN                     NaN  \n",
       "2                  NaN                     NaN  \n",
       "3                  NaN                     NaN  \n",
       "4                  NaN                     NaN  \n",
       "\n",
       "[5 rows x 129 columns]"
      ]
     },
     "execution_count": 31,
     "metadata": {},
     "output_type": "execute_result"
    }
   ],
   "source": [
    "da.head()"
   ]
  },
  {
   "cell_type": "code",
   "execution_count": 32,
   "metadata": {},
   "outputs": [],
   "source": [
    "da = da[['obj_plate_obj_ID','obj_block','obj_house','obj_room','obj_level_ft','obj_time_cat','obj_category','addl_type','addl_description']]\n",
    "ds = ds[['Feature','Block','House','Room','Level_ft','Period_cited_in_text','Level_context','Text','Materials_notes']]\n",
    "da.columns = ['Plate','Block','House','Room','Level_ft','Time_Cat','Feature','Type','Text']\n",
    "\n",
    "ds['House'] = ds['House'].dropna(axis = 0)\n",
    "ds['Block'] = ds['Block'].dropna(axis = 0)\n"
   ]
  },
  {
   "cell_type": "code",
   "execution_count": 33,
   "metadata": {},
   "outputs": [
    {
     "name": "stderr",
     "output_type": "stream",
     "text": [
      "/var/folders/v5/39j5vvc10pd4p0nqbxd7qv500000gn/T/ipykernel_79660/325653883.py:1: FutureWarning: iteritems is deprecated and will be removed in a future version. Use .items instead.\n",
      "  ds['House'] = [r.split(', ')[0] for i,r in ds['House'].astype(str).iteritems()]\n"
     ]
    },
    {
     "data": {
      "text/html": [
       "<div>\n",
       "<style scoped>\n",
       "    .dataframe tbody tr th:only-of-type {\n",
       "        vertical-align: middle;\n",
       "    }\n",
       "\n",
       "    .dataframe tbody tr th {\n",
       "        vertical-align: top;\n",
       "    }\n",
       "\n",
       "    .dataframe thead th {\n",
       "        text-align: right;\n",
       "    }\n",
       "</style>\n",
       "<table border=\"1\" class=\"dataframe\">\n",
       "  <thead>\n",
       "    <tr style=\"text-align: right;\">\n",
       "      <th></th>\n",
       "      <th>Feature</th>\n",
       "      <th>Block</th>\n",
       "      <th>House</th>\n",
       "      <th>Room</th>\n",
       "      <th>Level_ft</th>\n",
       "      <th>Period_cited_in_text</th>\n",
       "      <th>Level_context</th>\n",
       "      <th>Text</th>\n",
       "      <th>Materials_notes</th>\n",
       "      <th>N1</th>\n",
       "    </tr>\n",
       "  </thead>\n",
       "  <tbody>\n",
       "    <tr>\n",
       "      <th>0</th>\n",
       "      <td>Doorsill</td>\n",
       "      <td>4</td>\n",
       "      <td>00</td>\n",
       "      <td>79</td>\n",
       "      <td>-14</td>\n",
       "      <td>Intermediate I</td>\n",
       "      <td>Exact Measure</td>\n",
       "      <td>The only apparent entrances were two doors at ...</td>\n",
       "      <td>NaN</td>\n",
       "      <td>Floor Features</td>\n",
       "    </tr>\n",
       "    <tr>\n",
       "      <th>1</th>\n",
       "      <td>Doorsill</td>\n",
       "      <td>4</td>\n",
       "      <td>00</td>\n",
       "      <td>13</td>\n",
       "      <td>-18.2</td>\n",
       "      <td>Intermediate II</td>\n",
       "      <td>Exact Measure</td>\n",
       "      <td>The entrance to room 13 was moved a few feet t...</td>\n",
       "      <td>NaN</td>\n",
       "      <td>Floor Features</td>\n",
       "    </tr>\n",
       "    <tr>\n",
       "      <th>2</th>\n",
       "      <td>Doorsill</td>\n",
       "      <td>4</td>\n",
       "      <td>00</td>\n",
       "      <td>03</td>\n",
       "      <td>-18.4</td>\n",
       "      <td>Intermediate II</td>\n",
       "      <td>Exact Measure</td>\n",
       "      <td>\\nof the building, each tread in passage 3 to ...</td>\n",
       "      <td>NaN</td>\n",
       "      <td>Floor Features</td>\n",
       "    </tr>\n",
       "    <tr>\n",
       "      <th>3</th>\n",
       "      <td>Doorsill</td>\n",
       "      <td>4</td>\n",
       "      <td>00</td>\n",
       "      <td>NaN</td>\n",
       "      <td>-15.3</td>\n",
       "      <td>Intermediate II</td>\n",
       "      <td>Exact Measure</td>\n",
       "      <td>In this phase, the eastern section (III) of th...</td>\n",
       "      <td>NaN</td>\n",
       "      <td>Floor Features</td>\n",
       "    </tr>\n",
       "    <tr>\n",
       "      <th>4</th>\n",
       "      <td>Door-Socket</td>\n",
       "      <td>4</td>\n",
       "      <td>00</td>\n",
       "      <td>NaN</td>\n",
       "      <td>NaN</td>\n",
       "      <td>Intermediate III</td>\n",
       "      <td>Raised Above Footing</td>\n",
       "      <td>Close to the western jamb of the doorway^ we f...</td>\n",
       "      <td>NaN</td>\n",
       "      <td>Floor Features</td>\n",
       "    </tr>\n",
       "  </tbody>\n",
       "</table>\n",
       "</div>"
      ],
      "text/plain": [
       "       Feature  Block House Room Level_ft Period_cited_in_text  \\\n",
       "0     Doorsill      4    00   79      -14       Intermediate I   \n",
       "1     Doorsill      4    00   13    -18.2      Intermediate II   \n",
       "2     Doorsill      4    00   03    -18.4      Intermediate II   \n",
       "3     Doorsill      4    00  NaN    -15.3      Intermediate II   \n",
       "4  Door-Socket      4    00  NaN      NaN     Intermediate III   \n",
       "\n",
       "          Level_context                                               Text  \\\n",
       "0         Exact Measure  The only apparent entrances were two doors at ...   \n",
       "1         Exact Measure  The entrance to room 13 was moved a few feet t...   \n",
       "2         Exact Measure  \\nof the building, each tread in passage 3 to ...   \n",
       "3         Exact Measure  In this phase, the eastern section (III) of th...   \n",
       "4  Raised Above Footing  Close to the western jamb of the doorway^ we f...   \n",
       "\n",
       "  Materials_notes              N1  \n",
       "0             NaN  Floor Features  \n",
       "1             NaN  Floor Features  \n",
       "2             NaN  Floor Features  \n",
       "3             NaN  Floor Features  \n",
       "4             NaN  Floor Features  "
      ]
     },
     "metadata": {},
     "output_type": "display_data"
    },
    {
     "data": {
      "text/html": [
       "<div>\n",
       "<style scoped>\n",
       "    .dataframe tbody tr th:only-of-type {\n",
       "        vertical-align: middle;\n",
       "    }\n",
       "\n",
       "    .dataframe tbody tr th {\n",
       "        vertical-align: top;\n",
       "    }\n",
       "\n",
       "    .dataframe thead th {\n",
       "        text-align: right;\n",
       "    }\n",
       "</style>\n",
       "<table border=\"1\" class=\"dataframe\">\n",
       "  <thead>\n",
       "    <tr style=\"text-align: right;\">\n",
       "      <th></th>\n",
       "      <th>Plate</th>\n",
       "      <th>Block</th>\n",
       "      <th>House</th>\n",
       "      <th>Room</th>\n",
       "      <th>Level_ft</th>\n",
       "      <th>Time_Cat</th>\n",
       "      <th>Feature</th>\n",
       "      <th>Type</th>\n",
       "      <th>Text</th>\n",
       "      <th>N1</th>\n",
       "    </tr>\n",
       "  </thead>\n",
       "  <tbody>\n",
       "    <tr>\n",
       "      <th>0</th>\n",
       "      <td>074-001-X</td>\n",
       "      <td>14</td>\n",
       "      <td>1.0</td>\n",
       "      <td>4</td>\n",
       "      <td>-8.2</td>\n",
       "      <td>Late III</td>\n",
       "      <td>Animals</td>\n",
       "      <td>Model animal</td>\n",
       "      <td>Pottery, without a slip. This bird is probably...</td>\n",
       "      <td>Artefacts</td>\n",
       "    </tr>\n",
       "    <tr>\n",
       "      <th>1</th>\n",
       "      <td>074-002-X</td>\n",
       "      <td>13</td>\n",
       "      <td>2.0</td>\n",
       "      <td>7</td>\n",
       "      <td>-9.2</td>\n",
       "      <td>Late III</td>\n",
       "      <td>Animals</td>\n",
       "      <td>Model animal</td>\n",
       "      <td>Pottery; no slip. A fowl or dove on a narrow p...</td>\n",
       "      <td>Artefacts</td>\n",
       "    </tr>\n",
       "    <tr>\n",
       "      <th>2</th>\n",
       "      <td>074-003-X</td>\n",
       "      <td>13</td>\n",
       "      <td>3.0</td>\n",
       "      <td>19</td>\n",
       "      <td>-6</td>\n",
       "      <td>Late II</td>\n",
       "      <td>Animals</td>\n",
       "      <td>Model animal</td>\n",
       "      <td>Pottery, with no slip. A brid's head and neck,...</td>\n",
       "      <td>Artefacts</td>\n",
       "    </tr>\n",
       "    <tr>\n",
       "      <th>3</th>\n",
       "      <td>074-004-X</td>\n",
       "      <td>25</td>\n",
       "      <td>2.0</td>\n",
       "      <td>15</td>\n",
       "      <td>-8.4</td>\n",
       "      <td>Late III</td>\n",
       "      <td>Animals</td>\n",
       "      <td>Model animal</td>\n",
       "      <td>Pottery, with a red slip. A dove, as shown by ...</td>\n",
       "      <td>Artefacts</td>\n",
       "    </tr>\n",
       "    <tr>\n",
       "      <th>4</th>\n",
       "      <td>074-005-X</td>\n",
       "      <td>18</td>\n",
       "      <td>0.0</td>\n",
       "      <td>110</td>\n",
       "      <td>-5.8</td>\n",
       "      <td>Late II</td>\n",
       "      <td>Animals</td>\n",
       "      <td>Model animal</td>\n",
       "      <td>Pottery, with traces of a fine white slip whic...</td>\n",
       "      <td>Artefacts</td>\n",
       "    </tr>\n",
       "  </tbody>\n",
       "</table>\n",
       "</div>"
      ],
      "text/plain": [
       "       Plate Block  House Room Level_ft  Time_Cat  Feature          Type  \\\n",
       "0  074-001-X    14    1.0    4     -8.2  Late III  Animals  Model animal   \n",
       "1  074-002-X    13    2.0    7     -9.2  Late III  Animals  Model animal   \n",
       "2  074-003-X    13    3.0   19       -6   Late II  Animals  Model animal   \n",
       "3  074-004-X    25    2.0   15     -8.4  Late III  Animals  Model animal   \n",
       "4  074-005-X    18    0.0  110     -5.8   Late II  Animals  Model animal   \n",
       "\n",
       "                                                Text         N1  \n",
       "0  Pottery, without a slip. This bird is probably...  Artefacts  \n",
       "1  Pottery; no slip. A fowl or dove on a narrow p...  Artefacts  \n",
       "2  Pottery, with no slip. A brid's head and neck,...  Artefacts  \n",
       "3  Pottery, with a red slip. A dove, as shown by ...  Artefacts  \n",
       "4  Pottery, with traces of a fine white slip whic...  Artefacts  "
      ]
     },
     "metadata": {},
     "output_type": "display_data"
    }
   ],
   "source": [
    "ds['House'] = [r.split(', ')[0] for i,r in ds['House'].astype(str).iteritems()]\n",
    "\n",
    "ds['N1'] = 'Floor Features'\n",
    "da['N1'] = 'Artefacts'\n",
    "\n",
    "display( ds.head(5) )\n",
    "display( da.head(5))"
   ]
  },
  {
   "cell_type": "markdown",
   "metadata": {},
   "source": [
    "WATER FEATURES "
   ]
  },
  {
   "cell_type": "code",
   "execution_count": 34,
   "metadata": {},
   "outputs": [],
   "source": [
    "# dw = pd.read_csv( \"https://raw.githubusercontent.com/PrattSAVI/LIAVH/master/data/Wells_and_Water_Features_Refs_Mackay.csv\" , engine = 'python' )\n",
    "dw = pd.read_csv(\"/Users/saraeichner/Desktop/github/mohenjo-daro/data/Wells_and_Water_Features_Refs_Mackay.csv\",encoding='unicode_escape')"
   ]
  },
  {
   "cell_type": "code",
   "execution_count": 35,
   "metadata": {},
   "outputs": [
    {
     "data": {
      "text/html": [
       "<div>\n",
       "<style scoped>\n",
       "    .dataframe tbody tr th:only-of-type {\n",
       "        vertical-align: middle;\n",
       "    }\n",
       "\n",
       "    .dataframe tbody tr th {\n",
       "        vertical-align: top;\n",
       "    }\n",
       "\n",
       "    .dataframe thead th {\n",
       "        text-align: right;\n",
       "    }\n",
       "</style>\n",
       "<table border=\"1\" class=\"dataframe\">\n",
       "  <thead>\n",
       "    <tr style=\"text-align: right;\">\n",
       "      <th></th>\n",
       "      <th>Feature</th>\n",
       "      <th>Block</th>\n",
       "      <th>House</th>\n",
       "      <th>Room</th>\n",
       "      <th>Level_ft</th>\n",
       "      <th>Time_Cat</th>\n",
       "      <th>Text</th>\n",
       "      <th>Plate</th>\n",
       "      <th>N1</th>\n",
       "    </tr>\n",
       "  </thead>\n",
       "  <tbody>\n",
       "    <tr>\n",
       "      <th>57</th>\n",
       "      <td>Drain</td>\n",
       "      <td>9</td>\n",
       "      <td>06</td>\n",
       "      <td>79</td>\n",
       "      <td>-7.0</td>\n",
       "      <td>Late  II and I</td>\n",
       "      <td>The north-western corner of room 37 was twice ...</td>\n",
       "      <td>NaN</td>\n",
       "      <td>Water Features</td>\n",
       "    </tr>\n",
       "    <tr>\n",
       "      <th>44</th>\n",
       "      <td>Pavement</td>\n",
       "      <td>9</td>\n",
       "      <td>09</td>\n",
       "      <td>NaN</td>\n",
       "      <td>-9.9</td>\n",
       "      <td>Late III</td>\n",
       "      <td>The wash-down pavement in the north-eastern co...</td>\n",
       "      <td>NaN</td>\n",
       "      <td>Water Features</td>\n",
       "    </tr>\n",
       "    <tr>\n",
       "      <th>37</th>\n",
       "      <td>Well</td>\n",
       "      <td>7</td>\n",
       "      <td>08</td>\n",
       "      <td>19</td>\n",
       "      <td>-13.0</td>\n",
       "      <td>Intermediate I</td>\n",
       "      <td>No trace of any paving of this period was foun...</td>\n",
       "      <td>NaN</td>\n",
       "      <td>Water Features</td>\n",
       "    </tr>\n",
       "    <tr>\n",
       "      <th>4</th>\n",
       "      <td>Well</td>\n",
       "      <td>7</td>\n",
       "      <td>06</td>\n",
       "      <td>75</td>\n",
       "      <td>-20.4</td>\n",
       "      <td>Intermediate III</td>\n",
       "      <td>The well (75) must have been in use at this pe...</td>\n",
       "      <td>NaN</td>\n",
       "      <td>Water Features</td>\n",
       "    </tr>\n",
       "    <tr>\n",
       "      <th>53</th>\n",
       "      <td>Pavement</td>\n",
       "      <td>7</td>\n",
       "      <td>05</td>\n",
       "      <td>NaN</td>\n",
       "      <td>-11.6</td>\n",
       "      <td>Late III</td>\n",
       "      <td>In House V a large expanse of pavement round t...</td>\n",
       "      <td>NaN</td>\n",
       "      <td>Water Features</td>\n",
       "    </tr>\n",
       "  </tbody>\n",
       "</table>\n",
       "</div>"
      ],
      "text/plain": [
       "     Feature Block House Room  Level_ft          Time_Cat  \\\n",
       "57     Drain     9    06   79      -7.0    Late  II and I   \n",
       "44  Pavement     9    09  NaN      -9.9          Late III   \n",
       "37      Well     7    08   19     -13.0    Intermediate I   \n",
       "4       Well     7    06   75     -20.4  Intermediate III   \n",
       "53  Pavement     7    05  NaN     -11.6          Late III   \n",
       "\n",
       "                                                 Text Plate              N1  \n",
       "57  The north-western corner of room 37 was twice ...   NaN  Water Features  \n",
       "44  The wash-down pavement in the north-eastern co...   NaN  Water Features  \n",
       "37  No trace of any paving of this period was foun...   NaN  Water Features  \n",
       "4   The well (75) must have been in use at this pe...   NaN  Water Features  \n",
       "53  In House V a large expanse of pavement round t...   NaN  Water Features  "
      ]
     },
     "execution_count": 35,
     "metadata": {},
     "output_type": "execute_result"
    }
   ],
   "source": [
    "dw = dw.dropna( axis = 0 , how = 'all')\n",
    "dw = dw.drop( ['Size_notes','Page_num' ], axis = 1 )\n",
    "\n",
    "dw = dw[['Feature','Block','House','Room','Level_ft','Period_cited_in_text','Text','Plate_num']].copy()\n",
    "dw.columns = ['Feature','Block','House','Room','Level_ft' , 'Time_Cat' , 'Text' ,'Plate']\n",
    "\n",
    "#If Block/ House is not defined, Remove from list\n",
    "dw = dw[~pd.isna(dw['Block']) ]\n",
    "dw = dw[~pd.isna(dw['House']) ]\n",
    "dw['Block'] = dw['Block'].astype(int).astype(str)\n",
    "dw['House'] = dw['House'].astype(int).astype(str)\n",
    "dw['House'] = dw['House'].str.zfill(2)\n",
    "\n",
    "#If time is NA, assign average value\n",
    "dw.loc[ (pd.isna(dw['Level_ft'])) & (dw['Time_Cat']=='Late  II and I') , 'Level_ft'] = -7\n",
    "dw.loc[ (pd.isna(dw['Level_ft'])) & (dw['Time_Cat']=='Late III') , 'Level_ft'] = -9.9\n",
    "dw.loc[ (pd.isna(dw['Level_ft'])) & (dw['Time_Cat']=='Intermediate I') , 'Level_ft'] = -13\n",
    "dw.loc[ (pd.isna(dw['Level_ft'])) & (dw['Time_Cat']=='Intermediate II') , 'Level_ft'] = -15.9\n",
    "dw.loc[ (pd.isna(dw['Level_ft'])) & (dw['Time_Cat']=='Intermediate III') , 'Level_ft'] = -20.4\n",
    "\n",
    "dw['N1'] = 'Water Features'\n",
    "\n",
    "dw.sample(5)"
   ]
  },
  {
   "cell_type": "markdown",
   "metadata": {},
   "source": [
    "MERGE"
   ]
  },
  {
   "cell_type": "code",
   "execution_count": 36,
   "metadata": {},
   "outputs": [
    {
     "name": "stderr",
     "output_type": "stream",
     "text": [
      "/var/folders/v5/39j5vvc10pd4p0nqbxd7qv500000gn/T/ipykernel_79660/1476502166.py:1: FutureWarning: The frame.append method is deprecated and will be removed from pandas in a future version. Use pandas.concat instead.\n",
      "  df = da.append( ds )\n",
      "/var/folders/v5/39j5vvc10pd4p0nqbxd7qv500000gn/T/ipykernel_79660/1476502166.py:2: FutureWarning: The frame.append method is deprecated and will be removed from pandas in a future version. Use pandas.concat instead.\n",
      "  df = df.append( dw )\n"
     ]
    },
    {
     "data": {
      "text/html": [
       "<div>\n",
       "<style scoped>\n",
       "    .dataframe tbody tr th:only-of-type {\n",
       "        vertical-align: middle;\n",
       "    }\n",
       "\n",
       "    .dataframe tbody tr th {\n",
       "        vertical-align: top;\n",
       "    }\n",
       "\n",
       "    .dataframe thead th {\n",
       "        text-align: right;\n",
       "    }\n",
       "</style>\n",
       "<table border=\"1\" class=\"dataframe\">\n",
       "  <thead>\n",
       "    <tr style=\"text-align: right;\">\n",
       "      <th></th>\n",
       "      <th>Plate</th>\n",
       "      <th>Block</th>\n",
       "      <th>House</th>\n",
       "      <th>Room</th>\n",
       "      <th>Level_ft</th>\n",
       "      <th>Time_Cat</th>\n",
       "      <th>Feature</th>\n",
       "      <th>Type</th>\n",
       "      <th>Text</th>\n",
       "      <th>N1</th>\n",
       "      <th>Period_cited_in_text</th>\n",
       "      <th>Level_context</th>\n",
       "      <th>Materials_notes</th>\n",
       "    </tr>\n",
       "  </thead>\n",
       "  <tbody>\n",
       "    <tr>\n",
       "      <th>21</th>\n",
       "      <td>PI. XLI, c</td>\n",
       "      <td>10</td>\n",
       "      <td>01</td>\n",
       "      <td>NaN</td>\n",
       "      <td>-15.9</td>\n",
       "      <td>Intermediate II</td>\n",
       "      <td>Chute</td>\n",
       "      <td>NaN</td>\n",
       "      <td>The water escaped through an aperture, 3.75 in...</td>\n",
       "      <td>Water Features</td>\n",
       "      <td>NaN</td>\n",
       "      <td>NaN</td>\n",
       "      <td>NaN</td>\n",
       "    </tr>\n",
       "    <tr>\n",
       "      <th>33</th>\n",
       "      <td>NaN</td>\n",
       "      <td>9</td>\n",
       "      <td>06</td>\n",
       "      <td>NaN</td>\n",
       "      <td>-13.0</td>\n",
       "      <td>Intermediate I</td>\n",
       "      <td>Pavement</td>\n",
       "      <td>NaN</td>\n",
       "      <td>A pavement, some 6 ft sq at the eastern end of...</td>\n",
       "      <td>Water Features</td>\n",
       "      <td>NaN</td>\n",
       "      <td>NaN</td>\n",
       "      <td>NaN</td>\n",
       "    </tr>\n",
       "    <tr>\n",
       "      <th>46</th>\n",
       "      <td>NaN</td>\n",
       "      <td>9</td>\n",
       "      <td>01</td>\n",
       "      <td>NaN</td>\n",
       "      <td>-9.9</td>\n",
       "      <td>Late III</td>\n",
       "      <td>Pottery - Jar</td>\n",
       "      <td>NaN</td>\n",
       "      <td>This pavement is 10.7 ft. below datum and a po...</td>\n",
       "      <td>Water Features</td>\n",
       "      <td>NaN</td>\n",
       "      <td>NaN</td>\n",
       "      <td>NaN</td>\n",
       "    </tr>\n",
       "    <tr>\n",
       "      <th>1</th>\n",
       "      <td>NaN</td>\n",
       "      <td>7</td>\n",
       "      <td>04</td>\n",
       "      <td>79</td>\n",
       "      <td>-18.0</td>\n",
       "      <td>Intermediate III</td>\n",
       "      <td>Pavement</td>\n",
       "      <td>NaN</td>\n",
       "      <td>The little patch of paving (79) at the level ...</td>\n",
       "      <td>Water Features</td>\n",
       "      <td>NaN</td>\n",
       "      <td>NaN</td>\n",
       "      <td>NaN</td>\n",
       "    </tr>\n",
       "    <tr>\n",
       "      <th>4</th>\n",
       "      <td>NaN</td>\n",
       "      <td>7</td>\n",
       "      <td>06</td>\n",
       "      <td>75</td>\n",
       "      <td>-20.4</td>\n",
       "      <td>Intermediate III</td>\n",
       "      <td>Well</td>\n",
       "      <td>NaN</td>\n",
       "      <td>The well (75) must have been in use at this pe...</td>\n",
       "      <td>Water Features</td>\n",
       "      <td>NaN</td>\n",
       "      <td>NaN</td>\n",
       "      <td>NaN</td>\n",
       "    </tr>\n",
       "  </tbody>\n",
       "</table>\n",
       "</div>"
      ],
      "text/plain": [
       "         Plate Block House Room Level_ft          Time_Cat        Feature  \\\n",
       "21  PI. XLI, c    10    01  NaN    -15.9   Intermediate II          Chute   \n",
       "33         NaN     9    06  NaN    -13.0    Intermediate I       Pavement   \n",
       "46         NaN     9    01  NaN     -9.9          Late III  Pottery - Jar   \n",
       "1          NaN     7    04   79    -18.0  Intermediate III       Pavement   \n",
       "4          NaN     7    06   75    -20.4  Intermediate III           Well   \n",
       "\n",
       "   Type                                               Text              N1  \\\n",
       "21  NaN  The water escaped through an aperture, 3.75 in...  Water Features   \n",
       "33  NaN  A pavement, some 6 ft sq at the eastern end of...  Water Features   \n",
       "46  NaN  This pavement is 10.7 ft. below datum and a po...  Water Features   \n",
       "1   NaN  The little patch of paving (79) at the level ...  Water Features   \n",
       "4   NaN  The well (75) must have been in use at this pe...  Water Features   \n",
       "\n",
       "   Period_cited_in_text Level_context Materials_notes  \n",
       "21                  NaN           NaN             NaN  \n",
       "33                  NaN           NaN             NaN  \n",
       "46                  NaN           NaN             NaN  \n",
       "1                   NaN           NaN             NaN  \n",
       "4                   NaN           NaN             NaN  "
      ]
     },
     "execution_count": 36,
     "metadata": {},
     "output_type": "execute_result"
    }
   ],
   "source": [
    "df = da.append( ds )\n",
    "df = df.append( dw )\n",
    "\n",
    "df[ df['N1'] == 'Water Features' ].sample(5)"
   ]
  },
  {
   "cell_type": "code",
   "execution_count": 42,
   "metadata": {},
   "outputs": [
    {
     "data": {
      "text/html": [
       "<div>\n",
       "<style scoped>\n",
       "    .dataframe tbody tr th:only-of-type {\n",
       "        vertical-align: middle;\n",
       "    }\n",
       "\n",
       "    .dataframe tbody tr th {\n",
       "        vertical-align: top;\n",
       "    }\n",
       "\n",
       "    .dataframe thead th {\n",
       "        text-align: right;\n",
       "    }\n",
       "</style>\n",
       "<table border=\"1\" class=\"dataframe\">\n",
       "  <thead>\n",
       "    <tr style=\"text-align: right;\">\n",
       "      <th></th>\n",
       "      <th>Plate</th>\n",
       "      <th>Block</th>\n",
       "      <th>House</th>\n",
       "      <th>Room</th>\n",
       "      <th>Level_ft</th>\n",
       "      <th>Time_Cat</th>\n",
       "      <th>Feature</th>\n",
       "      <th>Type</th>\n",
       "      <th>Text</th>\n",
       "      <th>N1</th>\n",
       "      <th>Period_cited_in_text</th>\n",
       "      <th>Level_context</th>\n",
       "      <th>Materials_notes</th>\n",
       "    </tr>\n",
       "  </thead>\n",
       "  <tbody>\n",
       "    <tr>\n",
       "      <th>0</th>\n",
       "      <td>074-001-X</td>\n",
       "      <td>14</td>\n",
       "      <td>1.0</td>\n",
       "      <td>4</td>\n",
       "      <td>-8.2</td>\n",
       "      <td>Late III</td>\n",
       "      <td>Animals</td>\n",
       "      <td>Model animal</td>\n",
       "      <td>Pottery, without a slip. This bird is probably...</td>\n",
       "      <td>Artefacts</td>\n",
       "      <td>NaN</td>\n",
       "      <td>NaN</td>\n",
       "      <td>NaN</td>\n",
       "    </tr>\n",
       "    <tr>\n",
       "      <th>1</th>\n",
       "      <td>074-002-X</td>\n",
       "      <td>13</td>\n",
       "      <td>2.0</td>\n",
       "      <td>7</td>\n",
       "      <td>-9.2</td>\n",
       "      <td>Late III</td>\n",
       "      <td>Animals</td>\n",
       "      <td>Model animal</td>\n",
       "      <td>Pottery; no slip. A fowl or dove on a narrow p...</td>\n",
       "      <td>Artefacts</td>\n",
       "      <td>NaN</td>\n",
       "      <td>NaN</td>\n",
       "      <td>NaN</td>\n",
       "    </tr>\n",
       "    <tr>\n",
       "      <th>2</th>\n",
       "      <td>074-003-X</td>\n",
       "      <td>13</td>\n",
       "      <td>3.0</td>\n",
       "      <td>19</td>\n",
       "      <td>-6</td>\n",
       "      <td>Late II</td>\n",
       "      <td>Animals</td>\n",
       "      <td>Model animal</td>\n",
       "      <td>Pottery, with no slip. A brid's head and neck,...</td>\n",
       "      <td>Artefacts</td>\n",
       "      <td>NaN</td>\n",
       "      <td>NaN</td>\n",
       "      <td>NaN</td>\n",
       "    </tr>\n",
       "    <tr>\n",
       "      <th>3</th>\n",
       "      <td>074-004-X</td>\n",
       "      <td>25</td>\n",
       "      <td>2.0</td>\n",
       "      <td>15</td>\n",
       "      <td>-8.4</td>\n",
       "      <td>Late III</td>\n",
       "      <td>Animals</td>\n",
       "      <td>Model animal</td>\n",
       "      <td>Pottery, with a red slip. A dove, as shown by ...</td>\n",
       "      <td>Artefacts</td>\n",
       "      <td>NaN</td>\n",
       "      <td>NaN</td>\n",
       "      <td>NaN</td>\n",
       "    </tr>\n",
       "    <tr>\n",
       "      <th>4</th>\n",
       "      <td>074-005-X</td>\n",
       "      <td>18</td>\n",
       "      <td>0.0</td>\n",
       "      <td>110</td>\n",
       "      <td>-5.8</td>\n",
       "      <td>Late II</td>\n",
       "      <td>Animals</td>\n",
       "      <td>Model animal</td>\n",
       "      <td>Pottery, with traces of a fine white slip whic...</td>\n",
       "      <td>Artefacts</td>\n",
       "      <td>NaN</td>\n",
       "      <td>NaN</td>\n",
       "      <td>NaN</td>\n",
       "    </tr>\n",
       "  </tbody>\n",
       "</table>\n",
       "</div>"
      ],
      "text/plain": [
       "       Plate Block House Room Level_ft  Time_Cat  Feature          Type  \\\n",
       "0  074-001-X    14   1.0    4     -8.2  Late III  Animals  Model animal   \n",
       "1  074-002-X    13   2.0    7     -9.2  Late III  Animals  Model animal   \n",
       "2  074-003-X    13   3.0   19       -6   Late II  Animals  Model animal   \n",
       "3  074-004-X    25   2.0   15     -8.4  Late III  Animals  Model animal   \n",
       "4  074-005-X    18   0.0  110     -5.8   Late II  Animals  Model animal   \n",
       "\n",
       "                                                Text         N1  \\\n",
       "0  Pottery, without a slip. This bird is probably...  Artefacts   \n",
       "1  Pottery; no slip. A fowl or dove on a narrow p...  Artefacts   \n",
       "2  Pottery, with no slip. A brid's head and neck,...  Artefacts   \n",
       "3  Pottery, with a red slip. A dove, as shown by ...  Artefacts   \n",
       "4  Pottery, with traces of a fine white slip whic...  Artefacts   \n",
       "\n",
       "  Period_cited_in_text Level_context Materials_notes  \n",
       "0                  NaN           NaN             NaN  \n",
       "1                  NaN           NaN             NaN  \n",
       "2                  NaN           NaN             NaN  \n",
       "3                  NaN           NaN             NaN  \n",
       "4                  NaN           NaN             NaN  "
      ]
     },
     "execution_count": 42,
     "metadata": {},
     "output_type": "execute_result"
    }
   ],
   "source": [
    "df.head()"
   ]
  },
  {
   "cell_type": "markdown",
   "metadata": {},
   "source": [
    "## stuck here with duplicate labels that I don't see"
   ]
  },
  {
   "cell_type": "code",
   "execution_count": 44,
   "metadata": {},
   "outputs": [],
   "source": [
    "df['Block'] = df['Block'].astype(str) \n",
    "\n",
    "df['House'] = df['House'].replace(np.nan,None)\n",
    "df['House'] = df['House'].replace('nan',None)\n",
    "#df['House'] = df['House'].dropna(axis = 0)\n",
    "#df['House'] = df['House'].astype(int).astype(str).str.zfill(2)\n",
    "df['House'] = df['House'].astype(str).str.zfill(2)\n",
    "\n",
    "#Filter Data to Selected Houses and Rooms\n",
    "#df = df[ df['Block'].isin([ '4','7','9','10' ]) ]\n",
    "#df = df[ df['House'].isin( ['07', '04', '03', '05', '06'] ) ]\n",
    "\n",
    "#Filter Data to Selected Houses and Rooms\n",
    "df = df[ df['Block'].isin([ '7']) ]\n",
    "df = df[ df['House'].isin( ['03', '04', '05'] ) ]\n",
    "\n"
   ]
  },
  {
   "cell_type": "code",
   "execution_count": 45,
   "metadata": {},
   "outputs": [],
   "source": [
    "df = df[ df.Level_ft != '?' ]\n",
    "df = df[ df.Level_ft != '[?]' ]\n",
    "\n",
    "df.loc[ df['Level_ft'] == 'SURFACE' , 'Level_ft' ] = 0\n",
    "df.loc[ df['Level_ft'] == 'Surface' , 'Level_ft' ] = 0\n",
    "\n",
    "df['Level_ft'] = df['Level_ft'].astype(float)\n",
    "\n",
    "domestic = ['Animals', 'Cooking Baking Utensils', 'Personal Ornament', \n",
    "            'Vessels','Games And Toys', 'Human Figure', 'Household Objects'\n",
    "            'Pottery - Incised and Painted', 'Pottery - Plain and Banded','Pottery - Incised and Painted - Upper']\n",
    "craft = [ 'Tools', 'Lithics' , 'Metal']\n",
    "trade = ['Weights And Measures', 'Beads', 'Seal' ]\n",
    "\n",
    "well = [ 'Well', 'Well Steening', 'Well Feature Detail', 'Well - Pit']\n",
    "drain = ['Pottery - Jar','Pipe', 'Drain','Outfall', 'Channel', 'Pit', 'Cesspit','Niche','Aperture', 'Chute', 'Drain Below Stair']\n",
    "platform = ['Pavement']\n",
    "\n",
    "df['Class'] = None\n",
    "\n",
    "#Floor Features\n",
    "df.loc[df['Feature'].isin(domestic) , 'Class'] = 'Domestic'\n",
    "df.loc[df['Feature'].isin(craft) , 'Class'] = 'Craft'\n",
    "df.loc[df['Feature'].isin(trade) , 'Class'] = 'Trade'\n",
    "\n",
    "#Water Class\n",
    "df.loc[df['Feature'].isin(well) , 'Class'] = 'Well'\n",
    "df.loc[df['Feature'].isin(drain) , 'Class'] = 'Drainage'\n",
    "df.loc[df['Feature'].isin(platform) , 'Class'] = 'Water Platforms'\n",
    "\n",
    "#Catch All Else\n",
    "df.loc[ (df['N1']=='Artefacts') & (pd.isna(df['Class'])) , 'Class'] = 'Other'"
   ]
  },
  {
   "cell_type": "code",
   "execution_count": 46,
   "metadata": {},
   "outputs": [],
   "source": [
    "def div_text( df , col ):  #Style Text by dividing at 6th word with <br>\n",
    "    texts = []\n",
    "    for i,r in df.iterrows():\n",
    "        if r[col]:\n",
    "            span = 6\n",
    "            words = str(r[col]).split(\" \")\n",
    "            res = [\" \".join(words[i:i+span]) for i in range(0, len(words), span)]\n",
    "            res = \"<br>\".join( res )\n",
    "            texts.append( res )\n",
    "        else:\n",
    "            texts.append( None )\n",
    "    return texts\n",
    "\n",
    "df['Text2'] = div_text( df , 'Text' )\n",
    "df['Text2'] = df['Text2'].replace('nan' , 'Not Available' )\n",
    "\n",
    "#df.sample(2)"
   ]
  },
  {
   "cell_type": "code",
   "execution_count": 47,
   "metadata": {},
   "outputs": [
    {
     "data": {
      "text/html": [
       "<div>\n",
       "<style scoped>\n",
       "    .dataframe tbody tr th:only-of-type {\n",
       "        vertical-align: middle;\n",
       "    }\n",
       "\n",
       "    .dataframe tbody tr th {\n",
       "        vertical-align: top;\n",
       "    }\n",
       "\n",
       "    .dataframe thead th {\n",
       "        text-align: right;\n",
       "    }\n",
       "</style>\n",
       "<table border=\"1\" class=\"dataframe\">\n",
       "  <thead>\n",
       "    <tr style=\"text-align: right;\">\n",
       "      <th></th>\n",
       "      <th>Plate</th>\n",
       "      <th>Block</th>\n",
       "      <th>House</th>\n",
       "      <th>Room</th>\n",
       "      <th>Level_ft</th>\n",
       "      <th>Time_Cat</th>\n",
       "      <th>Feature</th>\n",
       "      <th>Type</th>\n",
       "      <th>Text</th>\n",
       "      <th>N1</th>\n",
       "      <th>Period_cited_in_text</th>\n",
       "      <th>Level_context</th>\n",
       "      <th>Materials_notes</th>\n",
       "      <th>Class</th>\n",
       "      <th>Text2</th>\n",
       "    </tr>\n",
       "  </thead>\n",
       "  <tbody>\n",
       "    <tr>\n",
       "      <th>20</th>\n",
       "      <td>NaN</td>\n",
       "      <td>7</td>\n",
       "      <td>03</td>\n",
       "      <td>NaN</td>\n",
       "      <td>-7.7</td>\n",
       "      <td>NaN</td>\n",
       "      <td>Foundation</td>\n",
       "      <td>NaN</td>\n",
       "      <td>Mlost of the walls of Houses III and IV rested...</td>\n",
       "      <td>Floor Features</td>\n",
       "      <td>Late II</td>\n",
       "      <td>Average</td>\n",
       "      <td>burnt  brick</td>\n",
       "      <td>None</td>\n",
       "      <td>Mlost of the walls of Houses&lt;br&gt;III and IV res...</td>\n",
       "    </tr>\n",
       "    <tr>\n",
       "      <th>21</th>\n",
       "      <td>NaN</td>\n",
       "      <td>7</td>\n",
       "      <td>03</td>\n",
       "      <td>41, 44, 48</td>\n",
       "      <td>-6.1</td>\n",
       "      <td>NaN</td>\n",
       "      <td>Foundation</td>\n",
       "      <td>NaN</td>\n",
       "      <td>This building was of Late lb date, for the fou...</td>\n",
       "      <td>Floor Features</td>\n",
       "      <td>Late Ib</td>\n",
       "      <td>NaN</td>\n",
       "      <td>NaN</td>\n",
       "      <td>None</td>\n",
       "      <td>This building was of Late lb&lt;br&gt;date, for the ...</td>\n",
       "    </tr>\n",
       "    <tr>\n",
       "      <th>22</th>\n",
       "      <td>NaN</td>\n",
       "      <td>7</td>\n",
       "      <td>04</td>\n",
       "      <td>72</td>\n",
       "      <td>-13.9</td>\n",
       "      <td>NaN</td>\n",
       "      <td>Niche</td>\n",
       "      <td>NaN</td>\n",
       "      <td>House IV which was fairly complete was again s...</td>\n",
       "      <td>Floor Features</td>\n",
       "      <td>Intermediate I OR Intermediate II</td>\n",
       "      <td>Average</td>\n",
       "      <td>NaN</td>\n",
       "      <td>Drainage</td>\n",
       "      <td>House IV which was fairly complete&lt;br&gt;was agai...</td>\n",
       "    </tr>\n",
       "    <tr>\n",
       "      <th>23</th>\n",
       "      <td>NaN</td>\n",
       "      <td>7</td>\n",
       "      <td>04</td>\n",
       "      <td>NaN</td>\n",
       "      <td>-21.7</td>\n",
       "      <td>NaN</td>\n",
       "      <td>Doorsill</td>\n",
       "      <td>NaN</td>\n",
       "      <td>The badly ruined house (IV) which was entered ...</td>\n",
       "      <td>Floor Features</td>\n",
       "      <td>Intermediate III</td>\n",
       "      <td>General Measure</td>\n",
       "      <td>NaN</td>\n",
       "      <td>None</td>\n",
       "      <td>The badly ruined house (IV) which&lt;br&gt;was enter...</td>\n",
       "    </tr>\n",
       "    <tr>\n",
       "      <th>24</th>\n",
       "      <td>NaN</td>\n",
       "      <td>7</td>\n",
       "      <td>05</td>\n",
       "      <td>NaN</td>\n",
       "      <td>-13.6</td>\n",
       "      <td>NaN</td>\n",
       "      <td>Pavement</td>\n",
       "      <td>NaN</td>\n",
       "      <td>Against the eastern part of the southern wall ...</td>\n",
       "      <td>Floor Features</td>\n",
       "      <td>Intermediate I</td>\n",
       "      <td>Exact Measure</td>\n",
       "      <td>unusually fine pavement of two courses of bricks</td>\n",
       "      <td>Water Platforms</td>\n",
       "      <td>Against the eastern part of the&lt;br&gt;southern wa...</td>\n",
       "    </tr>\n",
       "  </tbody>\n",
       "</table>\n",
       "</div>"
      ],
      "text/plain": [
       "   Plate Block House         Room  Level_ft Time_Cat     Feature Type  \\\n",
       "20   NaN     7    03          NaN      -7.7      NaN  Foundation  NaN   \n",
       "21   NaN     7    03  41, 44, 48       -6.1      NaN  Foundation  NaN   \n",
       "22   NaN     7    04           72     -13.9      NaN       Niche  NaN   \n",
       "23   NaN     7    04          NaN     -21.7      NaN    Doorsill  NaN   \n",
       "24   NaN     7    05          NaN     -13.6      NaN    Pavement  NaN   \n",
       "\n",
       "                                                 Text              N1  \\\n",
       "20  Mlost of the walls of Houses III and IV rested...  Floor Features   \n",
       "21  This building was of Late lb date, for the fou...  Floor Features   \n",
       "22  House IV which was fairly complete was again s...  Floor Features   \n",
       "23  The badly ruined house (IV) which was entered ...  Floor Features   \n",
       "24  Against the eastern part of the southern wall ...  Floor Features   \n",
       "\n",
       "                 Period_cited_in_text    Level_context  \\\n",
       "20                            Late II          Average   \n",
       "21                            Late Ib              NaN   \n",
       "22  Intermediate I OR Intermediate II          Average   \n",
       "23                   Intermediate III  General Measure   \n",
       "24                     Intermediate I    Exact Measure   \n",
       "\n",
       "                                     Materials_notes            Class  \\\n",
       "20                                      burnt  brick             None   \n",
       "21                                               NaN             None   \n",
       "22                                               NaN         Drainage   \n",
       "23                                               NaN             None   \n",
       "24  unusually fine pavement of two courses of bricks  Water Platforms   \n",
       "\n",
       "                                                Text2  \n",
       "20  Mlost of the walls of Houses<br>III and IV res...  \n",
       "21  This building was of Late lb<br>date, for the ...  \n",
       "22  House IV which was fairly complete<br>was agai...  \n",
       "23  The badly ruined house (IV) which<br>was enter...  \n",
       "24  Against the eastern part of the<br>southern wa...  "
      ]
     },
     "execution_count": 47,
     "metadata": {},
     "output_type": "execute_result"
    }
   ],
   "source": [
    "df.head()"
   ]
  },
  {
   "cell_type": "markdown",
   "metadata": {},
   "source": [
    "PLOTLY"
   ]
  },
  {
   "cell_type": "code",
   "execution_count": 48,
   "metadata": {},
   "outputs": [],
   "source": [
    "time_order = [ 'Late Ia','Late Ib','Late II','Late III',\n",
    " 'Intermediate I','Intermediate II','Intermediate III',\n",
    " 'Early Periods']\n",
    "\n",
    "ff = go.Figure() #Start an empty Figure Object"
   ]
  },
  {
   "cell_type": "code",
   "execution_count": 67,
   "metadata": {},
   "outputs": [
    {
     "name": "stderr",
     "output_type": "stream",
     "text": [
      "/var/folders/v5/39j5vvc10pd4p0nqbxd7qv500000gn/T/ipykernel_79660/1584992312.py:6: FutureWarning:\n",
      "\n",
      "In a future version of pandas all arguments of DataFrame.set_index except for the argument 'keys' will be keyword-only.\n",
      "\n"
     ]
    },
    {
     "ename": "ValueError",
     "evalue": "len(left_on) must equal the number of levels in the index of \"right\"",
     "output_type": "error",
     "traceback": [
      "\u001b[0;31m---------------------------------------------------------------------------\u001b[0m",
      "\u001b[0;31mValueError\u001b[0m                                Traceback (most recent call last)",
      "Cell \u001b[0;32mIn[67], line 6\u001b[0m\n\u001b[1;32m      4\u001b[0m mins \u001b[38;5;241m=\u001b[39m at[[\u001b[38;5;124m'\u001b[39m\u001b[38;5;124mBlock\u001b[39m\u001b[38;5;124m'\u001b[39m,\u001b[38;5;124m'\u001b[39m\u001b[38;5;124mHouse\u001b[39m\u001b[38;5;124m'\u001b[39m,\u001b[38;5;124m'\u001b[39m\u001b[38;5;124mLevel_ft\u001b[39m\u001b[38;5;124m'\u001b[39m]]\u001b[38;5;241m.\u001b[39mgroupby( by \u001b[38;5;241m=\u001b[39m [\u001b[38;5;124m'\u001b[39m\u001b[38;5;124mBlock\u001b[39m\u001b[38;5;124m'\u001b[39m,\u001b[38;5;124m'\u001b[39m\u001b[38;5;124mHouse\u001b[39m\u001b[38;5;124m'\u001b[39m] )\u001b[38;5;241m.\u001b[39mmin()\u001b[38;5;241m.\u001b[39mreset_index()\n\u001b[1;32m      5\u001b[0m maxs \u001b[38;5;241m=\u001b[39m at[[\u001b[38;5;124m'\u001b[39m\u001b[38;5;124mBlock\u001b[39m\u001b[38;5;124m'\u001b[39m,\u001b[38;5;124m'\u001b[39m\u001b[38;5;124mHouse\u001b[39m\u001b[38;5;124m'\u001b[39m,\u001b[38;5;124m'\u001b[39m\u001b[38;5;124mLevel_ft\u001b[39m\u001b[38;5;124m'\u001b[39m]]\u001b[38;5;241m.\u001b[39mgroupby( by \u001b[38;5;241m=\u001b[39m [\u001b[38;5;124m'\u001b[39m\u001b[38;5;124mBlock\u001b[39m\u001b[38;5;124m'\u001b[39m,\u001b[38;5;124m'\u001b[39m\u001b[38;5;124mHouse\u001b[39m\u001b[38;5;124m'\u001b[39m] )\u001b[38;5;241m.\u001b[39mmax()\u001b[38;5;241m.\u001b[39mreset_index()\n\u001b[0;32m----> 6\u001b[0m al \u001b[38;5;241m=\u001b[39m \u001b[43mmins\u001b[49m\u001b[38;5;241;43m.\u001b[39;49m\u001b[43mjoin\u001b[49m\u001b[43m(\u001b[49m\u001b[43m \u001b[49m\u001b[43mmaxs\u001b[49m\u001b[38;5;241;43m.\u001b[39;49m\u001b[43mset_index\u001b[49m\u001b[43m(\u001b[49m\u001b[38;5;124;43m'\u001b[39;49m\u001b[38;5;124;43mBlock\u001b[39;49m\u001b[38;5;124;43m'\u001b[39;49m\u001b[43m,\u001b[49m\u001b[38;5;124;43m'\u001b[39;49m\u001b[38;5;124;43mHouse\u001b[39;49m\u001b[38;5;124;43m'\u001b[39;49m\u001b[43m)\u001b[49m\u001b[43m \u001b[49m\u001b[43m,\u001b[49m\u001b[43m \u001b[49m\u001b[43mon\u001b[49m\u001b[43m \u001b[49m\u001b[38;5;241;43m=\u001b[39;49m\u001b[43m \u001b[49m\u001b[43m[\u001b[49m\u001b[38;5;124;43m'\u001b[39;49m\u001b[38;5;124;43mBlock\u001b[39;49m\u001b[38;5;124;43m'\u001b[39;49m\u001b[43m,\u001b[49m\u001b[38;5;124;43m'\u001b[39;49m\u001b[38;5;124;43mHouse\u001b[39;49m\u001b[38;5;124;43m'\u001b[39;49m\u001b[43m]\u001b[49m\u001b[43m \u001b[49m\u001b[43m,\u001b[49m\u001b[43m \u001b[49m\u001b[43mrsuffix\u001b[49m\u001b[43m \u001b[49m\u001b[38;5;241;43m=\u001b[39;49m\u001b[43m \u001b[49m\u001b[38;5;124;43m'\u001b[39;49m\u001b[38;5;124;43m_max\u001b[39;49m\u001b[38;5;124;43m'\u001b[39;49m\u001b[43m)\u001b[49m\n\u001b[1;32m      8\u001b[0m ff\u001b[38;5;241m.\u001b[39madd_trace(\n\u001b[1;32m      9\u001b[0m     go\u001b[38;5;241m.\u001b[39mScatter( \u001b[38;5;66;03m#lines\u001b[39;00m\n\u001b[1;32m     10\u001b[0m             x\u001b[38;5;241m=\u001b[39m[al[\u001b[38;5;124m'\u001b[39m\u001b[38;5;124mBlock\u001b[39m\u001b[38;5;124m'\u001b[39m],al[\u001b[38;5;124m'\u001b[39m\u001b[38;5;124mHouse\u001b[39m\u001b[38;5;124m'\u001b[39m]], \n\u001b[0;32m   (...)\u001b[0m\n\u001b[1;32m     16\u001b[0m             )\n\u001b[1;32m     17\u001b[0m         )\n\u001b[1;32m     18\u001b[0m ff\u001b[38;5;241m.\u001b[39madd_trace(\n\u001b[1;32m     19\u001b[0m     go\u001b[38;5;241m.\u001b[39mScatter( \u001b[38;5;66;03m#White Fill\u001b[39;00m\n\u001b[1;32m     20\u001b[0m             x\u001b[38;5;241m=\u001b[39m[ al[\u001b[38;5;124m'\u001b[39m\u001b[38;5;124mBlock\u001b[39m\u001b[38;5;124m'\u001b[39m],al[\u001b[38;5;124m'\u001b[39m\u001b[38;5;124mHouse\u001b[39m\u001b[38;5;124m'\u001b[39m] ],\n\u001b[0;32m   (...)\u001b[0m\n\u001b[1;32m     27\u001b[0m             )\n\u001b[1;32m     28\u001b[0m         )\n",
      "File \u001b[0;32m/Applications/anaconda3/envs/geospatial2023/lib/python3.11/site-packages/pandas/core/frame.py:9976\u001b[0m, in \u001b[0;36mDataFrame.join\u001b[0;34m(self, other, on, how, lsuffix, rsuffix, sort, validate)\u001b[0m\n\u001b[1;32m   9813\u001b[0m \u001b[38;5;28;01mdef\u001b[39;00m \u001b[38;5;21mjoin\u001b[39m(\n\u001b[1;32m   9814\u001b[0m     \u001b[38;5;28mself\u001b[39m,\n\u001b[1;32m   9815\u001b[0m     other: DataFrame \u001b[38;5;241m|\u001b[39m Series \u001b[38;5;241m|\u001b[39m \u001b[38;5;28mlist\u001b[39m[DataFrame \u001b[38;5;241m|\u001b[39m Series],\n\u001b[0;32m   (...)\u001b[0m\n\u001b[1;32m   9821\u001b[0m     validate: \u001b[38;5;28mstr\u001b[39m \u001b[38;5;241m|\u001b[39m \u001b[38;5;28;01mNone\u001b[39;00m \u001b[38;5;241m=\u001b[39m \u001b[38;5;28;01mNone\u001b[39;00m,\n\u001b[1;32m   9822\u001b[0m ) \u001b[38;5;241m-\u001b[39m\u001b[38;5;241m>\u001b[39m DataFrame:\n\u001b[1;32m   9823\u001b[0m \u001b[38;5;250m    \u001b[39m\u001b[38;5;124;03m\"\"\"\u001b[39;00m\n\u001b[1;32m   9824\u001b[0m \u001b[38;5;124;03m    Join columns of another DataFrame.\u001b[39;00m\n\u001b[1;32m   9825\u001b[0m \n\u001b[0;32m   (...)\u001b[0m\n\u001b[1;32m   9974\u001b[0m \u001b[38;5;124;03m    5  K1  A5   B1\u001b[39;00m\n\u001b[1;32m   9975\u001b[0m \u001b[38;5;124;03m    \"\"\"\u001b[39;00m\n\u001b[0;32m-> 9976\u001b[0m     \u001b[38;5;28;01mreturn\u001b[39;00m \u001b[38;5;28;43mself\u001b[39;49m\u001b[38;5;241;43m.\u001b[39;49m\u001b[43m_join_compat\u001b[49m\u001b[43m(\u001b[49m\n\u001b[1;32m   9977\u001b[0m \u001b[43m        \u001b[49m\u001b[43mother\u001b[49m\u001b[43m,\u001b[49m\n\u001b[1;32m   9978\u001b[0m \u001b[43m        \u001b[49m\u001b[43mon\u001b[49m\u001b[38;5;241;43m=\u001b[39;49m\u001b[43mon\u001b[49m\u001b[43m,\u001b[49m\n\u001b[1;32m   9979\u001b[0m \u001b[43m        \u001b[49m\u001b[43mhow\u001b[49m\u001b[38;5;241;43m=\u001b[39;49m\u001b[43mhow\u001b[49m\u001b[43m,\u001b[49m\n\u001b[1;32m   9980\u001b[0m \u001b[43m        \u001b[49m\u001b[43mlsuffix\u001b[49m\u001b[38;5;241;43m=\u001b[39;49m\u001b[43mlsuffix\u001b[49m\u001b[43m,\u001b[49m\n\u001b[1;32m   9981\u001b[0m \u001b[43m        \u001b[49m\u001b[43mrsuffix\u001b[49m\u001b[38;5;241;43m=\u001b[39;49m\u001b[43mrsuffix\u001b[49m\u001b[43m,\u001b[49m\n\u001b[1;32m   9982\u001b[0m \u001b[43m        \u001b[49m\u001b[43msort\u001b[49m\u001b[38;5;241;43m=\u001b[39;49m\u001b[43msort\u001b[49m\u001b[43m,\u001b[49m\n\u001b[1;32m   9983\u001b[0m \u001b[43m        \u001b[49m\u001b[43mvalidate\u001b[49m\u001b[38;5;241;43m=\u001b[39;49m\u001b[43mvalidate\u001b[49m\u001b[43m,\u001b[49m\n\u001b[1;32m   9984\u001b[0m \u001b[43m    \u001b[49m\u001b[43m)\u001b[49m\n",
      "File \u001b[0;32m/Applications/anaconda3/envs/geospatial2023/lib/python3.11/site-packages/pandas/core/frame.py:10015\u001b[0m, in \u001b[0;36mDataFrame._join_compat\u001b[0;34m(self, other, on, how, lsuffix, rsuffix, sort, validate)\u001b[0m\n\u001b[1;32m  10005\u001b[0m     \u001b[38;5;28;01mif\u001b[39;00m how \u001b[38;5;241m==\u001b[39m \u001b[38;5;124m\"\u001b[39m\u001b[38;5;124mcross\u001b[39m\u001b[38;5;124m\"\u001b[39m:\n\u001b[1;32m  10006\u001b[0m         \u001b[38;5;28;01mreturn\u001b[39;00m merge(\n\u001b[1;32m  10007\u001b[0m             \u001b[38;5;28mself\u001b[39m,\n\u001b[1;32m  10008\u001b[0m             other,\n\u001b[0;32m   (...)\u001b[0m\n\u001b[1;32m  10013\u001b[0m             validate\u001b[38;5;241m=\u001b[39mvalidate,\n\u001b[1;32m  10014\u001b[0m         )\n\u001b[0;32m> 10015\u001b[0m     \u001b[38;5;28;01mreturn\u001b[39;00m \u001b[43mmerge\u001b[49m\u001b[43m(\u001b[49m\n\u001b[1;32m  10016\u001b[0m \u001b[43m        \u001b[49m\u001b[38;5;28;43mself\u001b[39;49m\u001b[43m,\u001b[49m\n\u001b[1;32m  10017\u001b[0m \u001b[43m        \u001b[49m\u001b[43mother\u001b[49m\u001b[43m,\u001b[49m\n\u001b[1;32m  10018\u001b[0m \u001b[43m        \u001b[49m\u001b[43mleft_on\u001b[49m\u001b[38;5;241;43m=\u001b[39;49m\u001b[43mon\u001b[49m\u001b[43m,\u001b[49m\n\u001b[1;32m  10019\u001b[0m \u001b[43m        \u001b[49m\u001b[43mhow\u001b[49m\u001b[38;5;241;43m=\u001b[39;49m\u001b[43mhow\u001b[49m\u001b[43m,\u001b[49m\n\u001b[1;32m  10020\u001b[0m \u001b[43m        \u001b[49m\u001b[43mleft_index\u001b[49m\u001b[38;5;241;43m=\u001b[39;49m\u001b[43mon\u001b[49m\u001b[43m \u001b[49m\u001b[38;5;129;43;01mis\u001b[39;49;00m\u001b[43m \u001b[49m\u001b[38;5;28;43;01mNone\u001b[39;49;00m\u001b[43m,\u001b[49m\n\u001b[1;32m  10021\u001b[0m \u001b[43m        \u001b[49m\u001b[43mright_index\u001b[49m\u001b[38;5;241;43m=\u001b[39;49m\u001b[38;5;28;43;01mTrue\u001b[39;49;00m\u001b[43m,\u001b[49m\n\u001b[1;32m  10022\u001b[0m \u001b[43m        \u001b[49m\u001b[43msuffixes\u001b[49m\u001b[38;5;241;43m=\u001b[39;49m\u001b[43m(\u001b[49m\u001b[43mlsuffix\u001b[49m\u001b[43m,\u001b[49m\u001b[43m \u001b[49m\u001b[43mrsuffix\u001b[49m\u001b[43m)\u001b[49m\u001b[43m,\u001b[49m\n\u001b[1;32m  10023\u001b[0m \u001b[43m        \u001b[49m\u001b[43msort\u001b[49m\u001b[38;5;241;43m=\u001b[39;49m\u001b[43msort\u001b[49m\u001b[43m,\u001b[49m\n\u001b[1;32m  10024\u001b[0m \u001b[43m        \u001b[49m\u001b[43mvalidate\u001b[49m\u001b[38;5;241;43m=\u001b[39;49m\u001b[43mvalidate\u001b[49m\u001b[43m,\u001b[49m\n\u001b[1;32m  10025\u001b[0m \u001b[43m    \u001b[49m\u001b[43m)\u001b[49m\n\u001b[1;32m  10026\u001b[0m \u001b[38;5;28;01melse\u001b[39;00m:\n\u001b[1;32m  10027\u001b[0m     \u001b[38;5;28;01mif\u001b[39;00m on \u001b[38;5;129;01mis\u001b[39;00m \u001b[38;5;129;01mnot\u001b[39;00m \u001b[38;5;28;01mNone\u001b[39;00m:\n",
      "File \u001b[0;32m/Applications/anaconda3/envs/geospatial2023/lib/python3.11/site-packages/pandas/core/reshape/merge.py:110\u001b[0m, in \u001b[0;36mmerge\u001b[0;34m(left, right, how, on, left_on, right_on, left_index, right_index, sort, suffixes, copy, indicator, validate)\u001b[0m\n\u001b[1;32m     93\u001b[0m \u001b[38;5;129m@Substitution\u001b[39m(\u001b[38;5;124m\"\u001b[39m\u001b[38;5;130;01m\\n\u001b[39;00m\u001b[38;5;124mleft : DataFrame or named Series\u001b[39m\u001b[38;5;124m\"\u001b[39m)\n\u001b[1;32m     94\u001b[0m \u001b[38;5;129m@Appender\u001b[39m(_merge_doc, indents\u001b[38;5;241m=\u001b[39m\u001b[38;5;241m0\u001b[39m)\n\u001b[1;32m     95\u001b[0m \u001b[38;5;28;01mdef\u001b[39;00m \u001b[38;5;21mmerge\u001b[39m(\n\u001b[0;32m   (...)\u001b[0m\n\u001b[1;32m    108\u001b[0m     validate: \u001b[38;5;28mstr\u001b[39m \u001b[38;5;241m|\u001b[39m \u001b[38;5;28;01mNone\u001b[39;00m \u001b[38;5;241m=\u001b[39m \u001b[38;5;28;01mNone\u001b[39;00m,\n\u001b[1;32m    109\u001b[0m ) \u001b[38;5;241m-\u001b[39m\u001b[38;5;241m>\u001b[39m DataFrame:\n\u001b[0;32m--> 110\u001b[0m     op \u001b[38;5;241m=\u001b[39m \u001b[43m_MergeOperation\u001b[49m\u001b[43m(\u001b[49m\n\u001b[1;32m    111\u001b[0m \u001b[43m        \u001b[49m\u001b[43mleft\u001b[49m\u001b[43m,\u001b[49m\n\u001b[1;32m    112\u001b[0m \u001b[43m        \u001b[49m\u001b[43mright\u001b[49m\u001b[43m,\u001b[49m\n\u001b[1;32m    113\u001b[0m \u001b[43m        \u001b[49m\u001b[43mhow\u001b[49m\u001b[38;5;241;43m=\u001b[39;49m\u001b[43mhow\u001b[49m\u001b[43m,\u001b[49m\n\u001b[1;32m    114\u001b[0m \u001b[43m        \u001b[49m\u001b[43mon\u001b[49m\u001b[38;5;241;43m=\u001b[39;49m\u001b[43mon\u001b[49m\u001b[43m,\u001b[49m\n\u001b[1;32m    115\u001b[0m \u001b[43m        \u001b[49m\u001b[43mleft_on\u001b[49m\u001b[38;5;241;43m=\u001b[39;49m\u001b[43mleft_on\u001b[49m\u001b[43m,\u001b[49m\n\u001b[1;32m    116\u001b[0m \u001b[43m        \u001b[49m\u001b[43mright_on\u001b[49m\u001b[38;5;241;43m=\u001b[39;49m\u001b[43mright_on\u001b[49m\u001b[43m,\u001b[49m\n\u001b[1;32m    117\u001b[0m \u001b[43m        \u001b[49m\u001b[43mleft_index\u001b[49m\u001b[38;5;241;43m=\u001b[39;49m\u001b[43mleft_index\u001b[49m\u001b[43m,\u001b[49m\n\u001b[1;32m    118\u001b[0m \u001b[43m        \u001b[49m\u001b[43mright_index\u001b[49m\u001b[38;5;241;43m=\u001b[39;49m\u001b[43mright_index\u001b[49m\u001b[43m,\u001b[49m\n\u001b[1;32m    119\u001b[0m \u001b[43m        \u001b[49m\u001b[43msort\u001b[49m\u001b[38;5;241;43m=\u001b[39;49m\u001b[43msort\u001b[49m\u001b[43m,\u001b[49m\n\u001b[1;32m    120\u001b[0m \u001b[43m        \u001b[49m\u001b[43msuffixes\u001b[49m\u001b[38;5;241;43m=\u001b[39;49m\u001b[43msuffixes\u001b[49m\u001b[43m,\u001b[49m\n\u001b[1;32m    121\u001b[0m \u001b[43m        \u001b[49m\u001b[43mindicator\u001b[49m\u001b[38;5;241;43m=\u001b[39;49m\u001b[43mindicator\u001b[49m\u001b[43m,\u001b[49m\n\u001b[1;32m    122\u001b[0m \u001b[43m        \u001b[49m\u001b[43mvalidate\u001b[49m\u001b[38;5;241;43m=\u001b[39;49m\u001b[43mvalidate\u001b[49m\u001b[43m,\u001b[49m\n\u001b[1;32m    123\u001b[0m \u001b[43m    \u001b[49m\u001b[43m)\u001b[49m\n\u001b[1;32m    124\u001b[0m     \u001b[38;5;28;01mreturn\u001b[39;00m op\u001b[38;5;241m.\u001b[39mget_result(copy\u001b[38;5;241m=\u001b[39mcopy)\n",
      "File \u001b[0;32m/Applications/anaconda3/envs/geospatial2023/lib/python3.11/site-packages/pandas/core/reshape/merge.py:685\u001b[0m, in \u001b[0;36m_MergeOperation.__init__\u001b[0;34m(self, left, right, how, on, left_on, right_on, axis, left_index, right_index, sort, suffixes, indicator, validate)\u001b[0m\n\u001b[1;32m    681\u001b[0m     \u001b[38;5;66;03m# stacklevel chosen to be correct when this is reached via pd.merge\u001b[39;00m\n\u001b[1;32m    682\u001b[0m     \u001b[38;5;66;03m# (and not DataFrame.join)\u001b[39;00m\n\u001b[1;32m    683\u001b[0m     warnings\u001b[38;5;241m.\u001b[39mwarn(msg, \u001b[38;5;167;01mFutureWarning\u001b[39;00m, stacklevel\u001b[38;5;241m=\u001b[39mfind_stack_level())\n\u001b[0;32m--> 685\u001b[0m \u001b[38;5;28mself\u001b[39m\u001b[38;5;241m.\u001b[39mleft_on, \u001b[38;5;28mself\u001b[39m\u001b[38;5;241m.\u001b[39mright_on \u001b[38;5;241m=\u001b[39m \u001b[38;5;28;43mself\u001b[39;49m\u001b[38;5;241;43m.\u001b[39;49m\u001b[43m_validate_left_right_on\u001b[49m\u001b[43m(\u001b[49m\u001b[43mleft_on\u001b[49m\u001b[43m,\u001b[49m\u001b[43m \u001b[49m\u001b[43mright_on\u001b[49m\u001b[43m)\u001b[49m\n\u001b[1;32m    687\u001b[0m cross_col \u001b[38;5;241m=\u001b[39m \u001b[38;5;28;01mNone\u001b[39;00m\n\u001b[1;32m    688\u001b[0m \u001b[38;5;28;01mif\u001b[39;00m \u001b[38;5;28mself\u001b[39m\u001b[38;5;241m.\u001b[39mhow \u001b[38;5;241m==\u001b[39m \u001b[38;5;124m\"\u001b[39m\u001b[38;5;124mcross\u001b[39m\u001b[38;5;124m\"\u001b[39m:\n",
      "File \u001b[0;32m/Applications/anaconda3/envs/geospatial2023/lib/python3.11/site-packages/pandas/core/reshape/merge.py:1469\u001b[0m, in \u001b[0;36m_MergeOperation._validate_left_right_on\u001b[0;34m(self, left_on, right_on)\u001b[0m\n\u001b[1;32m   1467\u001b[0m     \u001b[38;5;28;01mif\u001b[39;00m \u001b[38;5;28mself\u001b[39m\u001b[38;5;241m.\u001b[39mright_index:\n\u001b[1;32m   1468\u001b[0m         \u001b[38;5;28;01mif\u001b[39;00m \u001b[38;5;28mlen\u001b[39m(left_on) \u001b[38;5;241m!=\u001b[39m \u001b[38;5;28mself\u001b[39m\u001b[38;5;241m.\u001b[39mright\u001b[38;5;241m.\u001b[39mindex\u001b[38;5;241m.\u001b[39mnlevels:\n\u001b[0;32m-> 1469\u001b[0m             \u001b[38;5;28;01mraise\u001b[39;00m \u001b[38;5;167;01mValueError\u001b[39;00m(\n\u001b[1;32m   1470\u001b[0m                 \u001b[38;5;124m\"\u001b[39m\u001b[38;5;124mlen(left_on) must equal the number \u001b[39m\u001b[38;5;124m\"\u001b[39m\n\u001b[1;32m   1471\u001b[0m                 \u001b[38;5;124m'\u001b[39m\u001b[38;5;124mof levels in the index of \u001b[39m\u001b[38;5;124m\"\u001b[39m\u001b[38;5;124mright\u001b[39m\u001b[38;5;124m\"\u001b[39m\u001b[38;5;124m'\u001b[39m\n\u001b[1;32m   1472\u001b[0m             )\n\u001b[1;32m   1473\u001b[0m         right_on \u001b[38;5;241m=\u001b[39m [\u001b[38;5;28;01mNone\u001b[39;00m] \u001b[38;5;241m*\u001b[39m n\n\u001b[1;32m   1474\u001b[0m \u001b[38;5;28;01melif\u001b[39;00m right_on \u001b[38;5;129;01mis\u001b[39;00m \u001b[38;5;129;01mnot\u001b[39;00m \u001b[38;5;28;01mNone\u001b[39;00m:\n",
      "\u001b[0;31mValueError\u001b[0m: len(left_on) must equal the number of levels in the index of \"right\""
     ]
    }
   ],
   "source": [
    "#-----DRAW ==> STRATA LINES\n",
    "for t in time_order: #Draw the Strata Lines\n",
    "    at = df[ df['Time_Cat'] == t ]\n",
    "    mins = at[['Block','House','Level_ft']].groupby( by = ['Block','House'] ).min().reset_index()\n",
    "    maxs = at[['Block','House','Level_ft']].groupby( by = ['Block','House'] ).max().reset_index()\n",
    "    al = mins.join( maxs.set_index('Block','House') , on = ['Block','House'] , rsuffix = '_max')\n",
    "     \n",
    "    ff.add_trace(\n",
    "        go.Scatter( #lines\n",
    "                x=[al['Block'],al['House']], \n",
    "                y=al['Level_ft_max'],\n",
    "                fill=None,\n",
    "                mode='lines',\n",
    "                line=dict(width=0),\n",
    "                showlegend = False\n",
    "                )\n",
    "            )\n",
    "    ff.add_trace(\n",
    "        go.Scatter( #White Fill\n",
    "                x=[ al['Block'],al['House'] ],\n",
    "                y=al['Level_ft'],\n",
    "                fill='tonexty',\n",
    "                mode='lines',\n",
    "                fillcolor='rgba(255,255,255,0.2)',\n",
    "                line=dict(width=0, color='white'),\n",
    "                showlegend = False,\n",
    "                )\n",
    "            )"
   ]
  },
  {
   "cell_type": "code",
   "execution_count": 65,
   "metadata": {},
   "outputs": [],
   "source": [
    "#------DRAW ==> FLOOR FEATURE\n",
    "cmap = plt.cm.get_cmap('Set2')\n",
    "colors = [ 'rgb(' + str(int(cmap(i)[0]*255)) + ',' + str(int(cmap(i)[1]*255)) + ',' + str(int(cmap(i)[2]*255)) + ')' for i in np.linspace( 0 ,1 , len( df[df['N1']=='Floor Features']['Feature'].unique() ) ) ]\n",
    "count = 0\n",
    "for f in df[df['N1']=='Floor Features']['Feature'].unique(): # Draw Floor Features\n",
    "    dff = df[ (df['N1']=='Floor Features') & (df['Feature'] == f) ]\n",
    "\n",
    "    ff.add_trace( # Draw Floor Features\n",
    "        go.Scatter(\n",
    "            mode='markers',\n",
    "            x= [ dff['Block'] , dff['House'] ],\n",
    "            y = dff['Level_ft'],\n",
    "            legendgroup =  f,\n",
    "            text = '<b>' + dff['Feature'] + '</b><br>'+ dff['Text2'],\n",
    "            hovertemplate = \"%{text}<extra></extra>\",\n",
    "            marker_symbol = 'line-ew',\n",
    "            marker_line_color = colors[count], \n",
    "            marker_line_width = 2.5, marker_size = 25,\n",
    "            name = f\n",
    "            )\n",
    "        )\n",
    "    count = count + 1"
   ]
  },
  {
   "cell_type": "code",
   "execution_count": 62,
   "metadata": {},
   "outputs": [],
   "source": [
    "#------DRAW ==> WATER FEATURE\n",
    "cmap = plt.cm.get_cmap('Set1')\n",
    "colors = [ 'rgb(' + str(int(cmap(i)[0]*255)) + ',' + str(int(cmap(i)[1]*255)) + ',' + str(int(cmap(i)[2]*255)) + ')' for i in np.linspace( 0 ,1 , len( df[df['N1']=='Water Features']['Feature'].unique() ) ) ]\n",
    "\n",
    "count = 0\n",
    "for f in df[df['N1']=='Water Features']['Class'].unique(): # Draw Floor Features\n",
    "    dff = df[ (df['N1']=='Water Features') & (df['Class'] == f ) ]\n",
    "\n",
    "    ff.add_trace( # Draw Water Features\n",
    "        go.Scatter(\n",
    "            mode='markers',\n",
    "            x= [ dff['Block'] , dff['House'] ] ,\n",
    "            y=dff['Level_ft'],\n",
    "            legendgroup =  f,\n",
    "            text = '<b>' + dff['Feature'] + '</b><br>'+ dff['Text2'],\n",
    "            hovertemplate = \"%{text}<extra></extra>\",\n",
    "            marker_symbol = 'y-up',\n",
    "            marker_line_color= colors[count], \n",
    "            marker_line_width=13, marker_size=8,\n",
    "            name = f,\n",
    "            )\n",
    "        )\n",
    "    count = count + 1"
   ]
  },
  {
   "cell_type": "code",
   "execution_count": 63,
   "metadata": {},
   "outputs": [],
   "source": [
    "#SWARM PLOT\n",
    "def box_figure( df ): # Prepare the Swarm Plot\n",
    "\n",
    "    cmap = plt.cm.get_cmap('Set1')\n",
    "    colors = [ 'rgb(' + str(int(cmap(i)[0]*255)) + ',' + str(int(cmap(i)[1]*255)) + ',' + str(int(cmap(i)[2]*255)) + ')' for i in np.linspace( 0 ,1 , len( df['Class'].unique() ) ) ]\n",
    "    count = 0\n",
    "    \n",
    "    df = df[df['N1'] == 'Artefacts']\n",
    "    data_group = []\n",
    "    for item in sorted( df['Class'].unique() ):\n",
    "        data_group.append(\n",
    "            {\n",
    "                        'boxpoints': 'all',\n",
    "                        'fillcolor': 'rgba(255,255,255,0)',\n",
    "                        'hoveron': 'points',\n",
    "                        'text': '<b>' + df[df['Class'] == item]['Feature'] + '</b>' + '<br>Desc: ' + df[df['Class'] == item]['Text2'] + '<br>Link: <a target=\"_blank\" href=' + '>' + df[df['Class'] == item]['Plate'] + '</a>' ,\n",
    "                        'hovertemplate': \"%{text}\" ,\n",
    "                        'legendgroup': item ,\n",
    "                        'line': {'color': 'rgba(255,255,255,0)'},\n",
    "                        'marker': { \n",
    "                                    'color': colors[ count ] ,\n",
    "                                    'size': 8,\n",
    "                                    'opacity':0.8\n",
    "                                    },\n",
    "                        'name': item,\n",
    "                        'pointpos':0,\n",
    "                        'type': 'box',\n",
    "                        'x': [ df[df['Class'] == item]['Block'].tolist() , df[df['Class'] == item]['House'].tolist()],\n",
    "                        'y': df[df['Class'] == item]['Level_ft'].tolist(),\n",
    "                        'jitter':0.5\n",
    "                        })\n",
    "        count = count+1\n",
    "\n",
    "    return {\n",
    "        'data': data_group,\n",
    "    }\n",
    "for d in box_figure(df)['data']: #Draw Point Plot\n",
    "    ff.add_trace( go.Box( d ) )"
   ]
  },
  {
   "cell_type": "code",
   "execution_count": null,
   "metadata": {},
   "outputs": [],
   "source": []
  },
  {
   "cell_type": "code",
   "execution_count": 68,
   "metadata": {},
   "outputs": [
    {
     "name": "stderr",
     "output_type": "stream",
     "text": [
      "/var/folders/v5/39j5vvc10pd4p0nqbxd7qv500000gn/T/ipykernel_79660/2881685315.py:2: FutureWarning:\n",
      "\n",
      "The default value of numeric_only in DataFrameGroupBy.mean is deprecated. In a future version, numeric_only will default to False. Either specify numeric_only or select only columns which should be valid for the function.\n",
      "\n"
     ]
    },
    {
     "data": {
      "application/vnd.plotly.v1+json": {
       "config": {
        "plotlyServerURL": "https://plot.ly"
       },
       "data": [
        {
         "hovertemplate": "%{text}<extra></extra>",
         "legendgroup": "Foundation",
         "marker": {
          "line": {
           "color": "rgb(102,194,165)",
           "width": 1.5
          },
          "size": 15,
          "symbol": "line-ew"
         },
         "mode": "markers",
         "name": "Foundation",
         "text": [
          "<b>Foundation</b><br>Mlost of the walls of Houses<br>III and IV rested either on<br>rubble foundations or, as was particularly<br>noticeable in House III, upon small<br>nodules of burnt brick which seem<br>to have been the refuse of<br>a kiln. This latter foundation material<br>has been noticed in other parts<br>of l\fohenjo-daro, and as it was<br>apparently au innovation in the Late<br>Period, it ,vill perhaps assist us<br>later in correlating the levels of<br>the buildings in the various areas.<br>The average base ]eve] of this<br>foundation layer is - 7·7 ft.<br>",
          "<b>Foundation</b><br>This building was of Late lb<br>date, for the foundations of its<br>thin walls ·were only 6 ·<br>I ft. below datum. In the<br>thin wall between rooms 48 and<br>41 were t-wo niches, 8 ins.<br>deep. At the ,vestern end of<br>41, two t,reads alone remained of<br>a very substantial stairway, 2 ft.<br>3 ins. wide. There was apparently<br>no doorway into chamber 40, and<br>it was possibly filled up with<br>rubble and used as a platform<br>to support one of a series<br>of npper rooms to which .access<br>was afforded by the stairway. "
         ],
         "type": "scatter",
         "x": [
          [
           "7",
           "7"
          ],
          [
           "03",
           "03"
          ]
         ],
         "y": [
          -7.7,
          -6.1
         ]
        },
        {
         "hovertemplate": "%{text}<extra></extra>",
         "legendgroup": "Niche",
         "marker": {
          "line": {
           "color": "rgb(141,160,203)",
           "width": 1.5
          },
          "size": 15,
          "symbol": "line-ew"
         },
         "mode": "markers",
         "name": "Niche",
         "text": [
          "<b>Niche</b><br>House IV which was fairly complete<br>was again self-contained and followed veiy<br>much the same plan as in<br>the previous period. Though the sills<br>of a row' of three niches,<br>2 ft. 9 ins. wide by<br>1 ft. 2 ins. deep, in<br>the northern w'all of the large<br>room 72 were an average of<br>13 -9 ft. below datum, it<br>is uncertain whether they should appear<br>in the Intermediate I plan or<br>that of the Intermediate II Phase.<br>It depends upon whether their sills<br>were at pavement level or above<br>it when made."
         ],
         "type": "scatter",
         "x": [
          [
           "7"
          ],
          [
           "04"
          ]
         ],
         "y": [
          -13.9
         ]
        },
        {
         "hovertemplate": "%{text}<extra></extra>",
         "legendgroup": "Doorsill",
         "marker": {
          "line": {
           "color": "rgb(166,216,84)",
           "width": 1.5
          },
          "size": 15,
          "symbol": "line-ew"
         },
         "mode": "markers",
         "name": "Doorsill",
         "text": [
          "<b>Doorsill</b><br>The badly ruined house (IV) which<br>was entered from Long Lane was<br>less substantially built. It appears to<br>be of slightlv earlier date than<br>Houses V and VII, as the<br>door sills were some 21-7ft. below<br>datum. ",
          "<b>Doorsill</b><br>The sill of the enhance to<br>the Western room (54) is^ <br>20-8 ft below datum, whereas the<br>sills of the eastern entrances were<br> 1 8  9 ft.<br>below datum.",
          "<b>Doorsill</b><br>The sill of the enhance to<br>the Western room (54) is^ <br>20-8 ft below datum, whereas the<br>sills of the eastern entrances were<br> 1 8  9 ft.<br>below datum.",
          "<b>Doorsill</b><br>An important house (V) with two<br>entrances from Low Lane.' ",
          "<b>Doorsill</b><br>The western portion of House V<br>was fairly well preserved. It seems<br>originally to have shared the whole<br>of the large court 52-4 with<br>House VIII; but later a portion<br>was partitioned off for the exclusive<br>use of Honse Y by a<br>thin wall which stood 1 ft.<br>3 ins. high when cleared, whose<br>foundations show it to have been<br>bnilt in the Late lb Phase.<br>The sills of the doorways in<br>this wall average 5 ft. below<br>datum. "
         ],
         "type": "scatter",
         "x": [
          [
           "7",
           "7",
           "7",
           "7",
           "7"
          ],
          [
           "04",
           "05",
           "05",
           "05",
           "05"
          ]
         ],
         "y": [
          -21.7,
          -18.9,
          -20.8,
          -21.1,
          -5
         ]
        },
        {
         "hovertemplate": "%{text}<extra></extra>",
         "legendgroup": "Pavement",
         "marker": {
          "line": {
           "color": "rgb(229,196,148)",
           "width": 1.5
          },
          "size": 15,
          "symbol": "line-ew"
         },
         "mode": "markers",
         "name": "Pavement",
         "text": [
          "<b>Pavement</b><br>Against the eastern part of the<br>southern wall of this well-room at<br>the level  13.6 ft. were<br>the remains of an unusually fine<br>pavement of two courses of bricks<br>10.4 X  5.35 x 2<br>ins. in size, laid on a<br>3 ft. 4 ins. thick layer<br>of kiln-refiise, which in turn rested<br>on a stratum of ash about<br>half an inch thick. This pavement<br>was care- fully bordered with bricks<br>set on their shorter edges so<br>as to project 5.5 ins. above<br>the floor level. I do not<br>think that this thick layer of<br>pottery kiln-refuse was intended to drain<br>the room. ; itwasmerelyusedasaconvenientfillingwhichwould not be<br>liable to settle. Similar material was<br>quite frequently used for the founda-tions<br>of walls, especially in the Late<br>Period.",
          "<b>Pavement</b><br>The ablution pavement in room 64,<br>65, 67 sloped to the north,<br>where it was about 5·8 ft.<br>below datum, and it was bordered<br>all round with bricks set on<br>edge to project about 2 ·<br>5 ins. above the pavement. The<br>southern end of the pavement was<br>nearly 6 ins. above the leYel<br>of the northern end and formed<br>a square platform on which the<br>bather probably dried himself. The thin<br>walls that cut off the N.<br>,v. corner of this bathroom were<br>only a few inches high and<br>judging from their well-preserved copings were<br>never any higher. Perhaps the water­jars<br>were stored in this corner. "
         ],
         "type": "scatter",
         "x": [
          [
           "7",
           "7"
          ],
          [
           "05",
           "05"
          ]
         ],
         "y": [
          -13.6,
          -5.8
         ]
        },
        {
         "hovertemplate": "%{text}<extra></extra>",
         "legendgroup": "Stair Tread",
         "marker": {
          "line": {
           "color": "rgb(179,179,179)",
           "width": 1.5
          },
          "size": 15,
          "symbol": "line-ew"
         },
         "mode": "markers",
         "name": "Stair Tread",
         "text": [
          "<b>Stair Tread</b><br>The wide doorway of Intermediate II<br>date on the northern side of<br>the w ell- room in House<br>V was entirely occluded in this<br>period by a staircase, 3 ft.<br>6 ins. wide, rising to the<br>west, with treads 9.25 ins. broad<br>by 8 ins. high.^ The entrance<br>to the well-room at this time<br>was probably from the west though<br>that wall was badly damaged and<br>the actual position of the door<br>could not be ascertained. "
         ],
         "type": "scatter",
         "x": [
          [
           "7"
          ],
          [
           "05"
          ]
         ],
         "y": [
          -14.5
         ]
        },
        {
         "hovertemplate": "%{text}<extra></extra>",
         "legendgroup": "Drainage",
         "marker": {
          "line": {
           "color": "rgb(228,26,28)",
           "width": 1.5
          },
          "size": 5,
          "symbol": "y-up"
         },
         "mode": "markers",
         "name": "Drainage",
         "text": [
          "<b>Pottery - Jar</b><br>Inside the western doorway of room<br>50 of House IV was a<br>large pottery jar fed by a<br>little runnel (PI. XXXVII, b) made<br>of a partially scooped-out brick, that<br>seems never to have been covered<br>in. As this vessel was inside<br>the room and the liquid arrived<br>from outsidea most unusual arrangement we<br>must suppose that here we have<br>the remains of some apparatus for<br>brewing or perhaps, the preparation of<br>oil. The jar was not holed<br>as a drainage jar would have<br>been, and it was well made<br>and coated on the outside with<br>a thick red slip which would<br>prevent percolation.",
          "<b>Aperture</b><br>In House V a large expanse<br>of pavement round the well was<br>divided into two portions by a<br>thin partition wall, east of which<br>the pavement was 6 ins. lower<br>than on the west. This pavement<br>of exceptionally well cut bricks, 9.5x<br>4.7 X 1.9 ins. in size,<br>had the usual edging and sloped<br>down from the level  11.6ft.<br>towards the north-eastern corner, where the<br>water ran through a hole in<br>the eastern wall into the drain<br>in Low Lane outside. ",
          "<b>Drain</b><br>p.85. Along the northern side of<br>the passage 66 a well-preserved drain,<br>covered with bricks laid flatwise, sloped<br>towards the west. Its channel, 5<br>ins. wide by 6 ins. deep,<br>received the drainage from the bathroom<br>just described."
         ],
         "type": "scatter",
         "x": [
          [
           "7",
           "7",
           "7"
          ],
          [
           "04",
           "05",
           "03"
          ]
         ],
         "y": [
          -20.4,
          -9.9,
          -7
         ]
        },
        {
         "hovertemplate": "%{text}<extra></extra>",
         "legendgroup": "Water Platforms",
         "marker": {
          "line": {
           "color": "rgb(77,175,74)",
           "width": 1.5
          },
          "size": 5,
          "symbol": "y-up"
         },
         "mode": "markers",
         "name": "Water Platforms",
         "text": [
          "<b>Pavement</b><br>The little patch of paving (79)<br>at the level  18 ft.<br>is all that remains of either<br>a bathing-place or a privy which,<br>as so often at the present<br>day, was built at a slightly<br>higher level than the rest of<br>the house to allow of proper<br>drainage. Of the small house (III)<br>to the west of it practically<br>nothing remained.",
          "<b>Pavement</b><br>The wide doorway of Intermediate II<br>date on the northern side of<br>the wellroom in House V was<br>entirely occluded in this period by<br>a staircase, 3 ft. 6 ins.<br>wide, rising to the west, with<br>treads 9.25 ins. broad by 8<br>ins. high. The entrance to the<br>well-room at this time was probably<br>from the west though that wall<br>was badly damaged and the actual<br>position of the door could not<br>be ascertained. Against the eastern part<br>of the southern wall of this<br>well-room at the level  13.6<br>ft. were the remains of an<br>unusually fine pavement of two courses<br>of bricks 10.4 X 5.35x2 ins.<br>in size, laid on a 3<br>ft. 4 ins. thick layer of<br>kiln-refuse, which in turn rested on<br>a stratum of ash about half<br>an inch thick. This pavement was<br>carefully bordered with bricks set on<br>their shorter edges so as to<br>project 5-5 ins. above the floor<br>level. I do not think that<br>this thick layer of pottery kiln-refuse<br>was intended to drain the room;<br>it was merely used as a<br>convenient filling which would not be<br>liable to settle. Similar material was<br>quite frequently used for the foundations<br>of walls, especially in the Late<br>Period",
          "<b>Pavement</b><br>In House V a large expanse<br>of pavement round the well was<br>divided into two portions by a<br>thin partition wall, east of which<br>the pavement was 6 ins. lower<br>than on the west. This pavement<br>of exceptionally well cut bricks, 9.5x<br>4.7 X 1.9 ins. in size,<br>had the usual edging and sloped<br>down from the level  11.6ft.<br>towards the north-eastern corner, where the<br>water ran through a hole in<br>the eastern wall into the drain<br>in Low Lane outside. ",
          "<b>Pavement</b><br>p.85. The southern end of the<br>pavement was nearly 6 ins. above<br>the level of the northern end<br>and formed a square platform on<br>which the bather probably dried himself.<br>The thin walls that cut off<br>the N. W. corner of this<br>bathroom were only a few inches<br>high and judging from their well-preserved<br>copings were never any higher. Perhaps<br>the water jars were stored in<br>this corner."
         ],
         "type": "scatter",
         "x": [
          [
           "7",
           "7",
           "7",
           "7"
          ],
          [
           "04",
           "05",
           "05",
           "03"
          ]
         ],
         "y": [
          -18,
          -13,
          -11.6,
          -7
         ]
        },
        {
         "hovertemplate": "%{text}<extra></extra>",
         "legendgroup": "Well",
         "marker": {
          "line": {
           "color": "rgb(255,127,0)",
           "width": 1.5
          },
          "size": 5,
          "symbol": "y-up"
         },
         "mode": "markers",
         "name": "Well",
         "text": [
          "<b>Well</b><br>The well-room (77, 81), 16 ft.<br>long by 8 ft. wide, was<br>entered from the north and south<br>by two wide doorways whose sills<br>average 19 5 ft. below datum.<br>To the east of the well<br>was a carefully laid pavement at<br>the same level as the door-sills,<br>but it had sunk badly in<br>the centre. Shallow cavities in this<br>pavement worn by the dumping of<br>numberless water-jars show that this well-room<br>was in frequent use throughout a<br>lengthy period, and its separate entrance<br>from the lane to the south<br>suggests that the owner of the<br>house freely allowed his neighbours access<br>to his well. The spilt water<br>drained away into Low Lane through<br>a rectangular aperture in the eastern<br>wall.",
          "<b>Well</b><br>The wide doorway of Intermediate II<br>date on the northern side of<br>the wellroom in House V was<br>entirely occluded in this period by<br>a staircase, 3 ft. 6 ins.<br>wide, rising to the west, with<br>treads 9.25 ins. broad by 8<br>ins. high. The entrance to the<br>well-room at this time was probably<br>from the west though that wall<br>was badly damaged and the actual<br>position of the door could not<br>be ascertained. Against the eastern part<br>of the southern wall of this<br>well-room at the level  13.6<br>ft. were the remains of an<br>unusually fine pavement of two courses<br>of bricks 10.4 X 5.35x2 ins.<br>in size, laid on a 3<br>ft. 4 ins. thick layer of<br>kiln-refuse, which in turn rested on<br>a stratum of ash about half<br>an inch thick. This pavement was<br>carefully bordered with bricks set on<br>their shorter edges so as to<br>project 5-5 ins. above the floor<br>level. I do not think that<br>this thick layer of pottery kiln-refuse<br>was intended to drain the room;<br>it was merely used as a<br>convenient filling which would not be<br>liable to settle. Similar material was<br>quite frequently used for the foundations<br>of walls, especially in the Late<br>Period",
          "<b>Well</b><br>In House V a large expanse<br>of pavement round the well was<br>divided into two portions by a<br>thin partition wall, east of which<br>the pavement was 6 ins. lower<br>than on the west. This pavement<br>of exceptionally well cut bricks, 9.5x<br>4.7 X\n1.9 ins. in size, had<br>the usual edging and sloped down<br>from the level  11.6ft. towards<br>the north-eastern corner, where the water<br>ran through a hole in the<br>eastern wall into the drain in<br>Low Lane outside. "
         ],
         "type": "scatter",
         "x": [
          [
           "7",
           "7",
           "7"
          ],
          [
           "05",
           "05",
           "05"
          ]
         ],
         "y": [
          -19.5,
          -13,
          -9.9
         ]
        },
        {
         "mode": "text",
         "showlegend": false,
         "text": [
          "                  INTERMEDIATE I",
          "                  INTERMEDIATE III",
          "                  LATE  II AND I",
          "                  LATE III"
         ],
         "textfont": {
          "color": "grey",
          "family": "Tisa Sans Pro",
          "size": 8
         },
         "textposition": "middle right",
         "type": "scatter",
         "x": [
          "03",
          "03",
          "03",
          "03"
         ],
         "y": [
          -13,
          -19.3,
          -7,
          -10.466666666666667
         ]
        },
        {
         "hovertemplate": "%{text}<extra></extra>",
         "legendgroup": "Drainage",
         "marker": {
          "line": {
           "color": "rgb(228,26,28)",
           "width": 13
          },
          "size": 8,
          "symbol": "y-up"
         },
         "mode": "markers",
         "name": "Drainage",
         "text": [
          "<b>Pottery - Jar</b><br>Inside the western doorway of room<br>50 of House IV was a<br>large pottery jar fed by a<br>little runnel (PI. XXXVII, b) made<br>of a partially scooped-out brick, that<br>seems never to have been covered<br>in. As this vessel was inside<br>the room and the liquid arrived<br>from outsidea most unusual arrangement we<br>must suppose that here we have<br>the remains of some apparatus for<br>brewing or perhaps, the preparation of<br>oil. The jar was not holed<br>as a drainage jar would have<br>been, and it was well made<br>and coated on the outside with<br>a thick red slip which would<br>prevent percolation.",
          "<b>Aperture</b><br>In House V a large expanse<br>of pavement round the well was<br>divided into two portions by a<br>thin partition wall, east of which<br>the pavement was 6 ins. lower<br>than on the west. This pavement<br>of exceptionally well cut bricks, 9.5x<br>4.7 X 1.9 ins. in size,<br>had the usual edging and sloped<br>down from the level  11.6ft.<br>towards the north-eastern corner, where the<br>water ran through a hole in<br>the eastern wall into the drain<br>in Low Lane outside. ",
          "<b>Drain</b><br>p.85. Along the northern side of<br>the passage 66 a well-preserved drain,<br>covered with bricks laid flatwise, sloped<br>towards the west. Its channel, 5<br>ins. wide by 6 ins. deep,<br>received the drainage from the bathroom<br>just described."
         ],
         "type": "scatter",
         "x": [
          [
           "7",
           "7",
           "7"
          ],
          [
           "04",
           "05",
           "03"
          ]
         ],
         "y": [
          -20.4,
          -9.9,
          -7
         ]
        },
        {
         "hovertemplate": "%{text}<extra></extra>",
         "legendgroup": "Water Platforms",
         "marker": {
          "line": {
           "color": "rgb(77,175,74)",
           "width": 13
          },
          "size": 8,
          "symbol": "y-up"
         },
         "mode": "markers",
         "name": "Water Platforms",
         "text": [
          "<b>Pavement</b><br>The little patch of paving (79)<br>at the level  18 ft.<br>is all that remains of either<br>a bathing-place or a privy which,<br>as so often at the present<br>day, was built at a slightly<br>higher level than the rest of<br>the house to allow of proper<br>drainage. Of the small house (III)<br>to the west of it practically<br>nothing remained.",
          "<b>Pavement</b><br>The wide doorway of Intermediate II<br>date on the northern side of<br>the wellroom in House V was<br>entirely occluded in this period by<br>a staircase, 3 ft. 6 ins.<br>wide, rising to the west, with<br>treads 9.25 ins. broad by 8<br>ins. high. The entrance to the<br>well-room at this time was probably<br>from the west though that wall<br>was badly damaged and the actual<br>position of the door could not<br>be ascertained. Against the eastern part<br>of the southern wall of this<br>well-room at the level  13.6<br>ft. were the remains of an<br>unusually fine pavement of two courses<br>of bricks 10.4 X 5.35x2 ins.<br>in size, laid on a 3<br>ft. 4 ins. thick layer of<br>kiln-refuse, which in turn rested on<br>a stratum of ash about half<br>an inch thick. This pavement was<br>carefully bordered with bricks set on<br>their shorter edges so as to<br>project 5-5 ins. above the floor<br>level. I do not think that<br>this thick layer of pottery kiln-refuse<br>was intended to drain the room;<br>it was merely used as a<br>convenient filling which would not be<br>liable to settle. Similar material was<br>quite frequently used for the foundations<br>of walls, especially in the Late<br>Period",
          "<b>Pavement</b><br>In House V a large expanse<br>of pavement round the well was<br>divided into two portions by a<br>thin partition wall, east of which<br>the pavement was 6 ins. lower<br>than on the west. This pavement<br>of exceptionally well cut bricks, 9.5x<br>4.7 X 1.9 ins. in size,<br>had the usual edging and sloped<br>down from the level  11.6ft.<br>towards the north-eastern corner, where the<br>water ran through a hole in<br>the eastern wall into the drain<br>in Low Lane outside. ",
          "<b>Pavement</b><br>p.85. The southern end of the<br>pavement was nearly 6 ins. above<br>the level of the northern end<br>and formed a square platform on<br>which the bather probably dried himself.<br>The thin walls that cut off<br>the N. W. corner of this<br>bathroom were only a few inches<br>high and judging from their well-preserved<br>copings were never any higher. Perhaps<br>the water jars were stored in<br>this corner."
         ],
         "type": "scatter",
         "x": [
          [
           "7",
           "7",
           "7",
           "7"
          ],
          [
           "04",
           "05",
           "05",
           "03"
          ]
         ],
         "y": [
          -18,
          -13,
          -11.6,
          -7
         ]
        },
        {
         "hovertemplate": "%{text}<extra></extra>",
         "legendgroup": "Well",
         "marker": {
          "line": {
           "color": "rgb(255,127,0)",
           "width": 13
          },
          "size": 8,
          "symbol": "y-up"
         },
         "mode": "markers",
         "name": "Well",
         "text": [
          "<b>Well</b><br>The well-room (77, 81), 16 ft.<br>long by 8 ft. wide, was<br>entered from the north and south<br>by two wide doorways whose sills<br>average 19 5 ft. below datum.<br>To the east of the well<br>was a carefully laid pavement at<br>the same level as the door-sills,<br>but it had sunk badly in<br>the centre. Shallow cavities in this<br>pavement worn by the dumping of<br>numberless water-jars show that this well-room<br>was in frequent use throughout a<br>lengthy period, and its separate entrance<br>from the lane to the south<br>suggests that the owner of the<br>house freely allowed his neighbours access<br>to his well. The spilt water<br>drained away into Low Lane through<br>a rectangular aperture in the eastern<br>wall.",
          "<b>Well</b><br>The wide doorway of Intermediate II<br>date on the northern side of<br>the wellroom in House V was<br>entirely occluded in this period by<br>a staircase, 3 ft. 6 ins.<br>wide, rising to the west, with<br>treads 9.25 ins. broad by 8<br>ins. high. The entrance to the<br>well-room at this time was probably<br>from the west though that wall<br>was badly damaged and the actual<br>position of the door could not<br>be ascertained. Against the eastern part<br>of the southern wall of this<br>well-room at the level  13.6<br>ft. were the remains of an<br>unusually fine pavement of two courses<br>of bricks 10.4 X 5.35x2 ins.<br>in size, laid on a 3<br>ft. 4 ins. thick layer of<br>kiln-refuse, which in turn rested on<br>a stratum of ash about half<br>an inch thick. This pavement was<br>carefully bordered with bricks set on<br>their shorter edges so as to<br>project 5-5 ins. above the floor<br>level. I do not think that<br>this thick layer of pottery kiln-refuse<br>was intended to drain the room;<br>it was merely used as a<br>convenient filling which would not be<br>liable to settle. Similar material was<br>quite frequently used for the foundations<br>of walls, especially in the Late<br>Period",
          "<b>Well</b><br>In House V a large expanse<br>of pavement round the well was<br>divided into two portions by a<br>thin partition wall, east of which<br>the pavement was 6 ins. lower<br>than on the west. This pavement<br>of exceptionally well cut bricks, 9.5x<br>4.7 X\n1.9 ins. in size, had<br>the usual edging and sloped down<br>from the level  11.6ft. towards<br>the north-eastern corner, where the water<br>ran through a hole in the<br>eastern wall into the drain in<br>Low Lane outside. "
         ],
         "type": "scatter",
         "x": [
          [
           "7",
           "7",
           "7"
          ],
          [
           "05",
           "05",
           "05"
          ]
         ],
         "y": [
          -19.5,
          -13,
          -9.9
         ]
        },
        {
         "hovertemplate": "%{text}<extra></extra>",
         "legendgroup": "Drainage",
         "marker": {
          "line": {
           "color": "rgb(228,26,28)",
           "width": 13
          },
          "size": 8,
          "symbol": "y-up"
         },
         "mode": "markers",
         "name": "Drainage",
         "text": [
          "<b>Pottery - Jar</b><br>Inside the western doorway of room<br>50 of House IV was a<br>large pottery jar fed by a<br>little runnel (PI. XXXVII, b) made<br>of a partially scooped-out brick, that<br>seems never to have been covered<br>in. As this vessel was inside<br>the room and the liquid arrived<br>from outsidea most unusual arrangement we<br>must suppose that here we have<br>the remains of some apparatus for<br>brewing or perhaps, the preparation of<br>oil. The jar was not holed<br>as a drainage jar would have<br>been, and it was well made<br>and coated on the outside with<br>a thick red slip which would<br>prevent percolation.",
          "<b>Aperture</b><br>In House V a large expanse<br>of pavement round the well was<br>divided into two portions by a<br>thin partition wall, east of which<br>the pavement was 6 ins. lower<br>than on the west. This pavement<br>of exceptionally well cut bricks, 9.5x<br>4.7 X 1.9 ins. in size,<br>had the usual edging and sloped<br>down from the level  11.6ft.<br>towards the north-eastern corner, where the<br>water ran through a hole in<br>the eastern wall into the drain<br>in Low Lane outside. ",
          "<b>Drain</b><br>p.85. Along the northern side of<br>the passage 66 a well-preserved drain,<br>covered with bricks laid flatwise, sloped<br>towards the west. Its channel, 5<br>ins. wide by 6 ins. deep,<br>received the drainage from the bathroom<br>just described."
         ],
         "type": "scatter",
         "x": [
          [
           "7",
           "7",
           "7"
          ],
          [
           "04",
           "05",
           "03"
          ]
         ],
         "y": [
          -20.4,
          -9.9,
          -7
         ]
        },
        {
         "hovertemplate": "%{text}<extra></extra>",
         "legendgroup": "Water Platforms",
         "marker": {
          "line": {
           "color": "rgb(77,175,74)",
           "width": 13
          },
          "size": 8,
          "symbol": "y-up"
         },
         "mode": "markers",
         "name": "Water Platforms",
         "text": [
          "<b>Pavement</b><br>The little patch of paving (79)<br>at the level  18 ft.<br>is all that remains of either<br>a bathing-place or a privy which,<br>as so often at the present<br>day, was built at a slightly<br>higher level than the rest of<br>the house to allow of proper<br>drainage. Of the small house (III)<br>to the west of it practically<br>nothing remained.",
          "<b>Pavement</b><br>The wide doorway of Intermediate II<br>date on the northern side of<br>the wellroom in House V was<br>entirely occluded in this period by<br>a staircase, 3 ft. 6 ins.<br>wide, rising to the west, with<br>treads 9.25 ins. broad by 8<br>ins. high. The entrance to the<br>well-room at this time was probably<br>from the west though that wall<br>was badly damaged and the actual<br>position of the door could not<br>be ascertained. Against the eastern part<br>of the southern wall of this<br>well-room at the level  13.6<br>ft. were the remains of an<br>unusually fine pavement of two courses<br>of bricks 10.4 X 5.35x2 ins.<br>in size, laid on a 3<br>ft. 4 ins. thick layer of<br>kiln-refuse, which in turn rested on<br>a stratum of ash about half<br>an inch thick. This pavement was<br>carefully bordered with bricks set on<br>their shorter edges so as to<br>project 5-5 ins. above the floor<br>level. I do not think that<br>this thick layer of pottery kiln-refuse<br>was intended to drain the room;<br>it was merely used as a<br>convenient filling which would not be<br>liable to settle. Similar material was<br>quite frequently used for the foundations<br>of walls, especially in the Late<br>Period",
          "<b>Pavement</b><br>In House V a large expanse<br>of pavement round the well was<br>divided into two portions by a<br>thin partition wall, east of which<br>the pavement was 6 ins. lower<br>than on the west. This pavement<br>of exceptionally well cut bricks, 9.5x<br>4.7 X 1.9 ins. in size,<br>had the usual edging and sloped<br>down from the level  11.6ft.<br>towards the north-eastern corner, where the<br>water ran through a hole in<br>the eastern wall into the drain<br>in Low Lane outside. ",
          "<b>Pavement</b><br>p.85. The southern end of the<br>pavement was nearly 6 ins. above<br>the level of the northern end<br>and formed a square platform on<br>which the bather probably dried himself.<br>The thin walls that cut off<br>the N. W. corner of this<br>bathroom were only a few inches<br>high and judging from their well-preserved<br>copings were never any higher. Perhaps<br>the water jars were stored in<br>this corner."
         ],
         "type": "scatter",
         "x": [
          [
           "7",
           "7",
           "7",
           "7"
          ],
          [
           "04",
           "05",
           "05",
           "03"
          ]
         ],
         "y": [
          -18,
          -13,
          -11.6,
          -7
         ]
        },
        {
         "hovertemplate": "%{text}<extra></extra>",
         "legendgroup": "Well",
         "marker": {
          "line": {
           "color": "rgb(255,127,0)",
           "width": 13
          },
          "size": 8,
          "symbol": "y-up"
         },
         "mode": "markers",
         "name": "Well",
         "text": [
          "<b>Well</b><br>The well-room (77, 81), 16 ft.<br>long by 8 ft. wide, was<br>entered from the north and south<br>by two wide doorways whose sills<br>average 19 5 ft. below datum.<br>To the east of the well<br>was a carefully laid pavement at<br>the same level as the door-sills,<br>but it had sunk badly in<br>the centre. Shallow cavities in this<br>pavement worn by the dumping of<br>numberless water-jars show that this well-room<br>was in frequent use throughout a<br>lengthy period, and its separate entrance<br>from the lane to the south<br>suggests that the owner of the<br>house freely allowed his neighbours access<br>to his well. The spilt water<br>drained away into Low Lane through<br>a rectangular aperture in the eastern<br>wall.",
          "<b>Well</b><br>The wide doorway of Intermediate II<br>date on the northern side of<br>the wellroom in House V was<br>entirely occluded in this period by<br>a staircase, 3 ft. 6 ins.<br>wide, rising to the west, with<br>treads 9.25 ins. broad by 8<br>ins. high. The entrance to the<br>well-room at this time was probably<br>from the west though that wall<br>was badly damaged and the actual<br>position of the door could not<br>be ascertained. Against the eastern part<br>of the southern wall of this<br>well-room at the level  13.6<br>ft. were the remains of an<br>unusually fine pavement of two courses<br>of bricks 10.4 X 5.35x2 ins.<br>in size, laid on a 3<br>ft. 4 ins. thick layer of<br>kiln-refuse, which in turn rested on<br>a stratum of ash about half<br>an inch thick. This pavement was<br>carefully bordered with bricks set on<br>their shorter edges so as to<br>project 5-5 ins. above the floor<br>level. I do not think that<br>this thick layer of pottery kiln-refuse<br>was intended to drain the room;<br>it was merely used as a<br>convenient filling which would not be<br>liable to settle. Similar material was<br>quite frequently used for the foundations<br>of walls, especially in the Late<br>Period",
          "<b>Well</b><br>In House V a large expanse<br>of pavement round the well was<br>divided into two portions by a<br>thin partition wall, east of which<br>the pavement was 6 ins. lower<br>than on the west. This pavement<br>of exceptionally well cut bricks, 9.5x<br>4.7 X\n1.9 ins. in size, had<br>the usual edging and sloped down<br>from the level  11.6ft. towards<br>the north-eastern corner, where the water<br>ran through a hole in the<br>eastern wall into the drain in<br>Low Lane outside. "
         ],
         "type": "scatter",
         "x": [
          [
           "7",
           "7",
           "7"
          ],
          [
           "05",
           "05",
           "05"
          ]
         ],
         "y": [
          -19.5,
          -13,
          -9.9
         ]
        },
        {
         "mode": "text",
         "showlegend": false,
         "text": [
          "                  INTERMEDIATE I",
          "                  INTERMEDIATE III",
          "                  LATE  II AND I",
          "                  LATE III"
         ],
         "textfont": {
          "color": "grey",
          "family": "Tisa Sans Pro",
          "size": 8
         },
         "textposition": "middle right",
         "type": "scatter",
         "x": [
          "03",
          "03",
          "03",
          "03"
         ],
         "y": [
          -13,
          -19.3,
          -7,
          -10.466666666666667
         ]
        },
        {
         "hovertemplate": "%{text}<extra></extra>",
         "legendgroup": "Foundation",
         "marker": {
          "line": {
           "color": "rgb(102,194,165)",
           "width": 2.5
          },
          "size": 25,
          "symbol": "line-ew"
         },
         "mode": "markers",
         "name": "Foundation",
         "text": [
          "<b>Foundation</b><br>Mlost of the walls of Houses<br>III and IV rested either on<br>rubble foundations or, as was particularly<br>noticeable in House III, upon small<br>nodules of burnt brick which seem<br>to have been the refuse of<br>a kiln. This latter foundation material<br>has been noticed in other parts<br>of l\fohenjo-daro, and as it was<br>apparently au innovation in the Late<br>Period, it ,vill perhaps assist us<br>later in correlating the levels of<br>the buildings in the various areas.<br>The average base ]eve] of this<br>foundation layer is - 7·7 ft.<br>",
          "<b>Foundation</b><br>This building was of Late lb<br>date, for the foundations of its<br>thin walls ·were only 6 ·<br>I ft. below datum. In the<br>thin wall between rooms 48 and<br>41 were t-wo niches, 8 ins.<br>deep. At the ,vestern end of<br>41, two t,reads alone remained of<br>a very substantial stairway, 2 ft.<br>3 ins. wide. There was apparently<br>no doorway into chamber 40, and<br>it was possibly filled up with<br>rubble and used as a platform<br>to support one of a series<br>of npper rooms to which .access<br>was afforded by the stairway. "
         ],
         "type": "scatter",
         "x": [
          [
           "7",
           "7"
          ],
          [
           "03",
           "03"
          ]
         ],
         "y": [
          -7.7,
          -6.1
         ]
        },
        {
         "hovertemplate": "%{text}<extra></extra>",
         "legendgroup": "Niche",
         "marker": {
          "line": {
           "color": "rgb(141,160,203)",
           "width": 2.5
          },
          "size": 25,
          "symbol": "line-ew"
         },
         "mode": "markers",
         "name": "Niche",
         "text": [
          "<b>Niche</b><br>House IV which was fairly complete<br>was again self-contained and followed veiy<br>much the same plan as in<br>the previous period. Though the sills<br>of a row' of three niches,<br>2 ft. 9 ins. wide by<br>1 ft. 2 ins. deep, in<br>the northern w'all of the large<br>room 72 were an average of<br>13 -9 ft. below datum, it<br>is uncertain whether they should appear<br>in the Intermediate I plan or<br>that of the Intermediate II Phase.<br>It depends upon whether their sills<br>were at pavement level or above<br>it when made."
         ],
         "type": "scatter",
         "x": [
          [
           "7"
          ],
          [
           "04"
          ]
         ],
         "y": [
          -13.9
         ]
        },
        {
         "hovertemplate": "%{text}<extra></extra>",
         "legendgroup": "Doorsill",
         "marker": {
          "line": {
           "color": "rgb(166,216,84)",
           "width": 2.5
          },
          "size": 25,
          "symbol": "line-ew"
         },
         "mode": "markers",
         "name": "Doorsill",
         "text": [
          "<b>Doorsill</b><br>The badly ruined house (IV) which<br>was entered from Long Lane was<br>less substantially built. It appears to<br>be of slightlv earlier date than<br>Houses V and VII, as the<br>door sills were some 21-7ft. below<br>datum. ",
          "<b>Doorsill</b><br>The sill of the enhance to<br>the Western room (54) is^ <br>20-8 ft below datum, whereas the<br>sills of the eastern entrances were<br> 1 8  9 ft.<br>below datum.",
          "<b>Doorsill</b><br>The sill of the enhance to<br>the Western room (54) is^ <br>20-8 ft below datum, whereas the<br>sills of the eastern entrances were<br> 1 8  9 ft.<br>below datum.",
          "<b>Doorsill</b><br>An important house (V) with two<br>entrances from Low Lane.' ",
          "<b>Doorsill</b><br>The western portion of House V<br>was fairly well preserved. It seems<br>originally to have shared the whole<br>of the large court 52-4 with<br>House VIII; but later a portion<br>was partitioned off for the exclusive<br>use of Honse Y by a<br>thin wall which stood 1 ft.<br>3 ins. high when cleared, whose<br>foundations show it to have been<br>bnilt in the Late lb Phase.<br>The sills of the doorways in<br>this wall average 5 ft. below<br>datum. "
         ],
         "type": "scatter",
         "x": [
          [
           "7",
           "7",
           "7",
           "7",
           "7"
          ],
          [
           "04",
           "05",
           "05",
           "05",
           "05"
          ]
         ],
         "y": [
          -21.7,
          -18.9,
          -20.8,
          -21.1,
          -5
         ]
        },
        {
         "hovertemplate": "%{text}<extra></extra>",
         "legendgroup": "Pavement",
         "marker": {
          "line": {
           "color": "rgb(229,196,148)",
           "width": 2.5
          },
          "size": 25,
          "symbol": "line-ew"
         },
         "mode": "markers",
         "name": "Pavement",
         "text": [
          "<b>Pavement</b><br>Against the eastern part of the<br>southern wall of this well-room at<br>the level  13.6 ft. were<br>the remains of an unusually fine<br>pavement of two courses of bricks<br>10.4 X  5.35 x 2<br>ins. in size, laid on a<br>3 ft. 4 ins. thick layer<br>of kiln-refiise, which in turn rested<br>on a stratum of ash about<br>half an inch thick. This pavement<br>was care- fully bordered with bricks<br>set on their shorter edges so<br>as to project 5.5 ins. above<br>the floor level. I do not<br>think that this thick layer of<br>pottery kiln-refuse was intended to drain<br>the room. ; itwasmerelyusedasaconvenientfillingwhichwould not be<br>liable to settle. Similar material was<br>quite frequently used for the founda-tions<br>of walls, especially in the Late<br>Period.",
          "<b>Pavement</b><br>The ablution pavement in room 64,<br>65, 67 sloped to the north,<br>where it was about 5·8 ft.<br>below datum, and it was bordered<br>all round with bricks set on<br>edge to project about 2 ·<br>5 ins. above the pavement. The<br>southern end of the pavement was<br>nearly 6 ins. above the leYel<br>of the northern end and formed<br>a square platform on which the<br>bather probably dried himself. The thin<br>walls that cut off the N.<br>,v. corner of this bathroom were<br>only a few inches high and<br>judging from their well-preserved copings were<br>never any higher. Perhaps the water­jars<br>were stored in this corner. "
         ],
         "type": "scatter",
         "x": [
          [
           "7",
           "7"
          ],
          [
           "05",
           "05"
          ]
         ],
         "y": [
          -13.6,
          -5.8
         ]
        },
        {
         "hovertemplate": "%{text}<extra></extra>",
         "legendgroup": "Stair Tread",
         "marker": {
          "line": {
           "color": "rgb(179,179,179)",
           "width": 2.5
          },
          "size": 25,
          "symbol": "line-ew"
         },
         "mode": "markers",
         "name": "Stair Tread",
         "text": [
          "<b>Stair Tread</b><br>The wide doorway of Intermediate II<br>date on the northern side of<br>the w ell- room in House<br>V was entirely occluded in this<br>period by a staircase, 3 ft.<br>6 ins. wide, rising to the<br>west, with treads 9.25 ins. broad<br>by 8 ins. high.^ The entrance<br>to the well-room at this time<br>was probably from the west though<br>that wall was badly damaged and<br>the actual position of the door<br>could not be ascertained. "
         ],
         "type": "scatter",
         "x": [
          [
           "7"
          ],
          [
           "05"
          ]
         ],
         "y": [
          -14.5
         ]
        },
        {
         "mode": "text",
         "showlegend": false,
         "text": [
          "                  INTERMEDIATE I",
          "                  INTERMEDIATE III",
          "                  LATE  II AND I",
          "                  LATE III"
         ],
         "textfont": {
          "color": "grey",
          "family": "Tisa Sans Pro",
          "size": 8
         },
         "textposition": "middle right",
         "type": "scatter",
         "x": [
          "03",
          "03",
          "03",
          "03"
         ],
         "y": [
          -13,
          -19.3,
          -7,
          -10.466666666666667
         ]
        },
        {
         "mode": "text",
         "showlegend": false,
         "text": [
          "                  INTERMEDIATE I",
          "                  INTERMEDIATE III",
          "                  LATE  II AND I",
          "                  LATE III"
         ],
         "textfont": {
          "color": "grey",
          "family": "Tisa Sans Pro",
          "size": 8
         },
         "textposition": "middle right",
         "type": "scatter",
         "x": [
          "03",
          "03",
          "03",
          "03"
         ],
         "y": [
          -13,
          -19.3,
          -7,
          -10.466666666666667
         ]
        }
       ],
       "layout": {
        "dragmode": "zoom",
        "height": 800,
        "hoverdistance": 60,
        "hoverlabel": {
         "bgcolor": "white",
         "font": {
          "family": "Corbel",
          "size": 11
         }
        },
        "hovermode": "closest",
        "margin": {
         "b": 80,
         "l": 50,
         "pad": 25,
         "r": 50,
         "t": 100
        },
        "paper_bgcolor": "#ebebea",
        "plot_bgcolor": "#ebebea",
        "showlegend": true,
        "template": {
         "data": {
          "bar": [
           {
            "error_x": {
             "color": "#2a3f5f"
            },
            "error_y": {
             "color": "#2a3f5f"
            },
            "marker": {
             "line": {
              "color": "#E5ECF6",
              "width": 0.5
             },
             "pattern": {
              "fillmode": "overlay",
              "size": 10,
              "solidity": 0.2
             }
            },
            "type": "bar"
           }
          ],
          "barpolar": [
           {
            "marker": {
             "line": {
              "color": "#E5ECF6",
              "width": 0.5
             },
             "pattern": {
              "fillmode": "overlay",
              "size": 10,
              "solidity": 0.2
             }
            },
            "type": "barpolar"
           }
          ],
          "carpet": [
           {
            "aaxis": {
             "endlinecolor": "#2a3f5f",
             "gridcolor": "white",
             "linecolor": "white",
             "minorgridcolor": "white",
             "startlinecolor": "#2a3f5f"
            },
            "baxis": {
             "endlinecolor": "#2a3f5f",
             "gridcolor": "white",
             "linecolor": "white",
             "minorgridcolor": "white",
             "startlinecolor": "#2a3f5f"
            },
            "type": "carpet"
           }
          ],
          "choropleth": [
           {
            "colorbar": {
             "outlinewidth": 0,
             "ticks": ""
            },
            "type": "choropleth"
           }
          ],
          "contour": [
           {
            "colorbar": {
             "outlinewidth": 0,
             "ticks": ""
            },
            "colorscale": [
             [
              0,
              "#0d0887"
             ],
             [
              0.1111111111111111,
              "#46039f"
             ],
             [
              0.2222222222222222,
              "#7201a8"
             ],
             [
              0.3333333333333333,
              "#9c179e"
             ],
             [
              0.4444444444444444,
              "#bd3786"
             ],
             [
              0.5555555555555556,
              "#d8576b"
             ],
             [
              0.6666666666666666,
              "#ed7953"
             ],
             [
              0.7777777777777778,
              "#fb9f3a"
             ],
             [
              0.8888888888888888,
              "#fdca26"
             ],
             [
              1,
              "#f0f921"
             ]
            ],
            "type": "contour"
           }
          ],
          "contourcarpet": [
           {
            "colorbar": {
             "outlinewidth": 0,
             "ticks": ""
            },
            "type": "contourcarpet"
           }
          ],
          "heatmap": [
           {
            "colorbar": {
             "outlinewidth": 0,
             "ticks": ""
            },
            "colorscale": [
             [
              0,
              "#0d0887"
             ],
             [
              0.1111111111111111,
              "#46039f"
             ],
             [
              0.2222222222222222,
              "#7201a8"
             ],
             [
              0.3333333333333333,
              "#9c179e"
             ],
             [
              0.4444444444444444,
              "#bd3786"
             ],
             [
              0.5555555555555556,
              "#d8576b"
             ],
             [
              0.6666666666666666,
              "#ed7953"
             ],
             [
              0.7777777777777778,
              "#fb9f3a"
             ],
             [
              0.8888888888888888,
              "#fdca26"
             ],
             [
              1,
              "#f0f921"
             ]
            ],
            "type": "heatmap"
           }
          ],
          "heatmapgl": [
           {
            "colorbar": {
             "outlinewidth": 0,
             "ticks": ""
            },
            "colorscale": [
             [
              0,
              "#0d0887"
             ],
             [
              0.1111111111111111,
              "#46039f"
             ],
             [
              0.2222222222222222,
              "#7201a8"
             ],
             [
              0.3333333333333333,
              "#9c179e"
             ],
             [
              0.4444444444444444,
              "#bd3786"
             ],
             [
              0.5555555555555556,
              "#d8576b"
             ],
             [
              0.6666666666666666,
              "#ed7953"
             ],
             [
              0.7777777777777778,
              "#fb9f3a"
             ],
             [
              0.8888888888888888,
              "#fdca26"
             ],
             [
              1,
              "#f0f921"
             ]
            ],
            "type": "heatmapgl"
           }
          ],
          "histogram": [
           {
            "marker": {
             "pattern": {
              "fillmode": "overlay",
              "size": 10,
              "solidity": 0.2
             }
            },
            "type": "histogram"
           }
          ],
          "histogram2d": [
           {
            "colorbar": {
             "outlinewidth": 0,
             "ticks": ""
            },
            "colorscale": [
             [
              0,
              "#0d0887"
             ],
             [
              0.1111111111111111,
              "#46039f"
             ],
             [
              0.2222222222222222,
              "#7201a8"
             ],
             [
              0.3333333333333333,
              "#9c179e"
             ],
             [
              0.4444444444444444,
              "#bd3786"
             ],
             [
              0.5555555555555556,
              "#d8576b"
             ],
             [
              0.6666666666666666,
              "#ed7953"
             ],
             [
              0.7777777777777778,
              "#fb9f3a"
             ],
             [
              0.8888888888888888,
              "#fdca26"
             ],
             [
              1,
              "#f0f921"
             ]
            ],
            "type": "histogram2d"
           }
          ],
          "histogram2dcontour": [
           {
            "colorbar": {
             "outlinewidth": 0,
             "ticks": ""
            },
            "colorscale": [
             [
              0,
              "#0d0887"
             ],
             [
              0.1111111111111111,
              "#46039f"
             ],
             [
              0.2222222222222222,
              "#7201a8"
             ],
             [
              0.3333333333333333,
              "#9c179e"
             ],
             [
              0.4444444444444444,
              "#bd3786"
             ],
             [
              0.5555555555555556,
              "#d8576b"
             ],
             [
              0.6666666666666666,
              "#ed7953"
             ],
             [
              0.7777777777777778,
              "#fb9f3a"
             ],
             [
              0.8888888888888888,
              "#fdca26"
             ],
             [
              1,
              "#f0f921"
             ]
            ],
            "type": "histogram2dcontour"
           }
          ],
          "mesh3d": [
           {
            "colorbar": {
             "outlinewidth": 0,
             "ticks": ""
            },
            "type": "mesh3d"
           }
          ],
          "parcoords": [
           {
            "line": {
             "colorbar": {
              "outlinewidth": 0,
              "ticks": ""
             }
            },
            "type": "parcoords"
           }
          ],
          "pie": [
           {
            "automargin": true,
            "type": "pie"
           }
          ],
          "scatter": [
           {
            "fillpattern": {
             "fillmode": "overlay",
             "size": 10,
             "solidity": 0.2
            },
            "type": "scatter"
           }
          ],
          "scatter3d": [
           {
            "line": {
             "colorbar": {
              "outlinewidth": 0,
              "ticks": ""
             }
            },
            "marker": {
             "colorbar": {
              "outlinewidth": 0,
              "ticks": ""
             }
            },
            "type": "scatter3d"
           }
          ],
          "scattercarpet": [
           {
            "marker": {
             "colorbar": {
              "outlinewidth": 0,
              "ticks": ""
             }
            },
            "type": "scattercarpet"
           }
          ],
          "scattergeo": [
           {
            "marker": {
             "colorbar": {
              "outlinewidth": 0,
              "ticks": ""
             }
            },
            "type": "scattergeo"
           }
          ],
          "scattergl": [
           {
            "marker": {
             "colorbar": {
              "outlinewidth": 0,
              "ticks": ""
             }
            },
            "type": "scattergl"
           }
          ],
          "scattermapbox": [
           {
            "marker": {
             "colorbar": {
              "outlinewidth": 0,
              "ticks": ""
             }
            },
            "type": "scattermapbox"
           }
          ],
          "scatterpolar": [
           {
            "marker": {
             "colorbar": {
              "outlinewidth": 0,
              "ticks": ""
             }
            },
            "type": "scatterpolar"
           }
          ],
          "scatterpolargl": [
           {
            "marker": {
             "colorbar": {
              "outlinewidth": 0,
              "ticks": ""
             }
            },
            "type": "scatterpolargl"
           }
          ],
          "scatterternary": [
           {
            "marker": {
             "colorbar": {
              "outlinewidth": 0,
              "ticks": ""
             }
            },
            "type": "scatterternary"
           }
          ],
          "surface": [
           {
            "colorbar": {
             "outlinewidth": 0,
             "ticks": ""
            },
            "colorscale": [
             [
              0,
              "#0d0887"
             ],
             [
              0.1111111111111111,
              "#46039f"
             ],
             [
              0.2222222222222222,
              "#7201a8"
             ],
             [
              0.3333333333333333,
              "#9c179e"
             ],
             [
              0.4444444444444444,
              "#bd3786"
             ],
             [
              0.5555555555555556,
              "#d8576b"
             ],
             [
              0.6666666666666666,
              "#ed7953"
             ],
             [
              0.7777777777777778,
              "#fb9f3a"
             ],
             [
              0.8888888888888888,
              "#fdca26"
             ],
             [
              1,
              "#f0f921"
             ]
            ],
            "type": "surface"
           }
          ],
          "table": [
           {
            "cells": {
             "fill": {
              "color": "#EBF0F8"
             },
             "line": {
              "color": "white"
             }
            },
            "header": {
             "fill": {
              "color": "#C8D4E3"
             },
             "line": {
              "color": "white"
             }
            },
            "type": "table"
           }
          ]
         },
         "layout": {
          "annotationdefaults": {
           "arrowcolor": "#2a3f5f",
           "arrowhead": 0,
           "arrowwidth": 1
          },
          "autotypenumbers": "strict",
          "coloraxis": {
           "colorbar": {
            "outlinewidth": 0,
            "ticks": ""
           }
          },
          "colorscale": {
           "diverging": [
            [
             0,
             "#8e0152"
            ],
            [
             0.1,
             "#c51b7d"
            ],
            [
             0.2,
             "#de77ae"
            ],
            [
             0.3,
             "#f1b6da"
            ],
            [
             0.4,
             "#fde0ef"
            ],
            [
             0.5,
             "#f7f7f7"
            ],
            [
             0.6,
             "#e6f5d0"
            ],
            [
             0.7,
             "#b8e186"
            ],
            [
             0.8,
             "#7fbc41"
            ],
            [
             0.9,
             "#4d9221"
            ],
            [
             1,
             "#276419"
            ]
           ],
           "sequential": [
            [
             0,
             "#0d0887"
            ],
            [
             0.1111111111111111,
             "#46039f"
            ],
            [
             0.2222222222222222,
             "#7201a8"
            ],
            [
             0.3333333333333333,
             "#9c179e"
            ],
            [
             0.4444444444444444,
             "#bd3786"
            ],
            [
             0.5555555555555556,
             "#d8576b"
            ],
            [
             0.6666666666666666,
             "#ed7953"
            ],
            [
             0.7777777777777778,
             "#fb9f3a"
            ],
            [
             0.8888888888888888,
             "#fdca26"
            ],
            [
             1,
             "#f0f921"
            ]
           ],
           "sequentialminus": [
            [
             0,
             "#0d0887"
            ],
            [
             0.1111111111111111,
             "#46039f"
            ],
            [
             0.2222222222222222,
             "#7201a8"
            ],
            [
             0.3333333333333333,
             "#9c179e"
            ],
            [
             0.4444444444444444,
             "#bd3786"
            ],
            [
             0.5555555555555556,
             "#d8576b"
            ],
            [
             0.6666666666666666,
             "#ed7953"
            ],
            [
             0.7777777777777778,
             "#fb9f3a"
            ],
            [
             0.8888888888888888,
             "#fdca26"
            ],
            [
             1,
             "#f0f921"
            ]
           ]
          },
          "colorway": [
           "#636efa",
           "#EF553B",
           "#00cc96",
           "#ab63fa",
           "#FFA15A",
           "#19d3f3",
           "#FF6692",
           "#B6E880",
           "#FF97FF",
           "#FECB52"
          ],
          "font": {
           "color": "#2a3f5f"
          },
          "geo": {
           "bgcolor": "white",
           "lakecolor": "white",
           "landcolor": "#E5ECF6",
           "showlakes": true,
           "showland": true,
           "subunitcolor": "white"
          },
          "hoverlabel": {
           "align": "left"
          },
          "hovermode": "closest",
          "mapbox": {
           "style": "light"
          },
          "paper_bgcolor": "white",
          "plot_bgcolor": "#E5ECF6",
          "polar": {
           "angularaxis": {
            "gridcolor": "white",
            "linecolor": "white",
            "ticks": ""
           },
           "bgcolor": "#E5ECF6",
           "radialaxis": {
            "gridcolor": "white",
            "linecolor": "white",
            "ticks": ""
           }
          },
          "scene": {
           "xaxis": {
            "backgroundcolor": "#E5ECF6",
            "gridcolor": "white",
            "gridwidth": 2,
            "linecolor": "white",
            "showbackground": true,
            "ticks": "",
            "zerolinecolor": "white"
           },
           "yaxis": {
            "backgroundcolor": "#E5ECF6",
            "gridcolor": "white",
            "gridwidth": 2,
            "linecolor": "white",
            "showbackground": true,
            "ticks": "",
            "zerolinecolor": "white"
           },
           "zaxis": {
            "backgroundcolor": "#E5ECF6",
            "gridcolor": "white",
            "gridwidth": 2,
            "linecolor": "white",
            "showbackground": true,
            "ticks": "",
            "zerolinecolor": "white"
           }
          },
          "shapedefaults": {
           "line": {
            "color": "#2a3f5f"
           }
          },
          "ternary": {
           "aaxis": {
            "gridcolor": "white",
            "linecolor": "white",
            "ticks": ""
           },
           "baxis": {
            "gridcolor": "white",
            "linecolor": "white",
            "ticks": ""
           },
           "bgcolor": "#E5ECF6",
           "caxis": {
            "gridcolor": "white",
            "linecolor": "white",
            "ticks": ""
           }
          },
          "title": {
           "x": 0.05
          },
          "xaxis": {
           "automargin": true,
           "gridcolor": "white",
           "linecolor": "white",
           "ticks": "",
           "title": {
            "standoff": 15
           },
           "zerolinecolor": "white",
           "zerolinewidth": 2
          },
          "yaxis": {
           "automargin": true,
           "gridcolor": "white",
           "linecolor": "white",
           "ticks": "",
           "title": {
            "standoff": 15
           },
           "zerolinecolor": "white",
           "zerolinewidth": 2
          }
         }
        },
        "title": {
         "text": "Block 7, Houses 3, 4 & 5 Artefact and Floor / Water Features"
        },
        "width": 900,
        "xaxis": {
         "gridcolor": "rgb(255, 255, 255,0.5)",
         "showgrid": true
        },
        "yaxis": {
         "gridcolor": "rgb(255, 255, 255,0.5)",
         "gridwidth": 0.1
        }
       }
      }
     },
     "metadata": {},
     "output_type": "display_data"
    }
   ],
   "source": [
    "#ADD NAME ANNOTATIONS\n",
    "gr = df.groupby(by='Time_Cat').mean().reset_index()\n",
    "\n",
    "ff.add_trace( # Add the Names\n",
    "    go.Scatter(\n",
    "        x = ['03']*len( gr ) ,\n",
    "        y = gr['Level_ft'],\n",
    "        mode = \"text\",\n",
    "        text = '                  ' + gr['Time_Cat'].astype(str).str.upper() ,\n",
    "        textposition = \"middle right\",\n",
    "        showlegend = False,\n",
    "        textfont = dict(\n",
    "            family = 'Tisa Sans Pro',\n",
    "            size = 8,\n",
    "            color = 'grey'\n",
    "        )\n",
    "    ))"
   ]
  },
  {
   "cell_type": "code",
   "execution_count": 71,
   "metadata": {},
   "outputs": [
    {
     "data": {
      "application/vnd.plotly.v1+json": {
       "config": {
        "plotlyServerURL": "https://plot.ly"
       },
       "data": [
        {
         "hovertemplate": "%{text}<extra></extra>",
         "legendgroup": "Foundation",
         "marker": {
          "line": {
           "color": "rgb(102,194,165)",
           "width": 1.5
          },
          "size": 15,
          "symbol": "line-ew"
         },
         "mode": "markers",
         "name": "Foundation",
         "text": [
          "<b>Foundation</b><br>Mlost of the walls of Houses<br>III and IV rested either on<br>rubble foundations or, as was particularly<br>noticeable in House III, upon small<br>nodules of burnt brick which seem<br>to have been the refuse of<br>a kiln. This latter foundation material<br>has been noticed in other parts<br>of l\fohenjo-daro, and as it was<br>apparently au innovation in the Late<br>Period, it ,vill perhaps assist us<br>later in correlating the levels of<br>the buildings in the various areas.<br>The average base ]eve] of this<br>foundation layer is - 7·7 ft.<br>",
          "<b>Foundation</b><br>This building was of Late lb<br>date, for the foundations of its<br>thin walls ·were only 6 ·<br>I ft. below datum. In the<br>thin wall between rooms 48 and<br>41 were t-wo niches, 8 ins.<br>deep. At the ,vestern end of<br>41, two t,reads alone remained of<br>a very substantial stairway, 2 ft.<br>3 ins. wide. There was apparently<br>no doorway into chamber 40, and<br>it was possibly filled up with<br>rubble and used as a platform<br>to support one of a series<br>of npper rooms to which .access<br>was afforded by the stairway. "
         ],
         "type": "scatter",
         "x": [
          [
           "7",
           "7"
          ],
          [
           "03",
           "03"
          ]
         ],
         "y": [
          -7.7,
          -6.1
         ]
        },
        {
         "hovertemplate": "%{text}<extra></extra>",
         "legendgroup": "Niche",
         "marker": {
          "line": {
           "color": "rgb(141,160,203)",
           "width": 1.5
          },
          "size": 15,
          "symbol": "line-ew"
         },
         "mode": "markers",
         "name": "Niche",
         "text": [
          "<b>Niche</b><br>House IV which was fairly complete<br>was again self-contained and followed veiy<br>much the same plan as in<br>the previous period. Though the sills<br>of a row' of three niches,<br>2 ft. 9 ins. wide by<br>1 ft. 2 ins. deep, in<br>the northern w'all of the large<br>room 72 were an average of<br>13 -9 ft. below datum, it<br>is uncertain whether they should appear<br>in the Intermediate I plan or<br>that of the Intermediate II Phase.<br>It depends upon whether their sills<br>were at pavement level or above<br>it when made."
         ],
         "type": "scatter",
         "x": [
          [
           "7"
          ],
          [
           "04"
          ]
         ],
         "y": [
          -13.9
         ]
        },
        {
         "hovertemplate": "%{text}<extra></extra>",
         "legendgroup": "Doorsill",
         "marker": {
          "line": {
           "color": "rgb(166,216,84)",
           "width": 1.5
          },
          "size": 15,
          "symbol": "line-ew"
         },
         "mode": "markers",
         "name": "Doorsill",
         "text": [
          "<b>Doorsill</b><br>The badly ruined house (IV) which<br>was entered from Long Lane was<br>less substantially built. It appears to<br>be of slightlv earlier date than<br>Houses V and VII, as the<br>door sills were some 21-7ft. below<br>datum. ",
          "<b>Doorsill</b><br>The sill of the enhance to<br>the Western room (54) is^ <br>20-8 ft below datum, whereas the<br>sills of the eastern entrances were<br> 1 8  9 ft.<br>below datum.",
          "<b>Doorsill</b><br>The sill of the enhance to<br>the Western room (54) is^ <br>20-8 ft below datum, whereas the<br>sills of the eastern entrances were<br> 1 8  9 ft.<br>below datum.",
          "<b>Doorsill</b><br>An important house (V) with two<br>entrances from Low Lane.' ",
          "<b>Doorsill</b><br>The western portion of House V<br>was fairly well preserved. It seems<br>originally to have shared the whole<br>of the large court 52-4 with<br>House VIII; but later a portion<br>was partitioned off for the exclusive<br>use of Honse Y by a<br>thin wall which stood 1 ft.<br>3 ins. high when cleared, whose<br>foundations show it to have been<br>bnilt in the Late lb Phase.<br>The sills of the doorways in<br>this wall average 5 ft. below<br>datum. "
         ],
         "type": "scatter",
         "x": [
          [
           "7",
           "7",
           "7",
           "7",
           "7"
          ],
          [
           "04",
           "05",
           "05",
           "05",
           "05"
          ]
         ],
         "y": [
          -21.7,
          -18.9,
          -20.8,
          -21.1,
          -5
         ]
        },
        {
         "hovertemplate": "%{text}<extra></extra>",
         "legendgroup": "Pavement",
         "marker": {
          "line": {
           "color": "rgb(229,196,148)",
           "width": 1.5
          },
          "size": 15,
          "symbol": "line-ew"
         },
         "mode": "markers",
         "name": "Pavement",
         "text": [
          "<b>Pavement</b><br>Against the eastern part of the<br>southern wall of this well-room at<br>the level  13.6 ft. were<br>the remains of an unusually fine<br>pavement of two courses of bricks<br>10.4 X  5.35 x 2<br>ins. in size, laid on a<br>3 ft. 4 ins. thick layer<br>of kiln-refiise, which in turn rested<br>on a stratum of ash about<br>half an inch thick. This pavement<br>was care- fully bordered with bricks<br>set on their shorter edges so<br>as to project 5.5 ins. above<br>the floor level. I do not<br>think that this thick layer of<br>pottery kiln-refuse was intended to drain<br>the room. ; itwasmerelyusedasaconvenientfillingwhichwould not be<br>liable to settle. Similar material was<br>quite frequently used for the founda-tions<br>of walls, especially in the Late<br>Period.",
          "<b>Pavement</b><br>The ablution pavement in room 64,<br>65, 67 sloped to the north,<br>where it was about 5·8 ft.<br>below datum, and it was bordered<br>all round with bricks set on<br>edge to project about 2 ·<br>5 ins. above the pavement. The<br>southern end of the pavement was<br>nearly 6 ins. above the leYel<br>of the northern end and formed<br>a square platform on which the<br>bather probably dried himself. The thin<br>walls that cut off the N.<br>,v. corner of this bathroom were<br>only a few inches high and<br>judging from their well-preserved copings were<br>never any higher. Perhaps the water­jars<br>were stored in this corner. "
         ],
         "type": "scatter",
         "x": [
          [
           "7",
           "7"
          ],
          [
           "05",
           "05"
          ]
         ],
         "y": [
          -13.6,
          -5.8
         ]
        },
        {
         "hovertemplate": "%{text}<extra></extra>",
         "legendgroup": "Stair Tread",
         "marker": {
          "line": {
           "color": "rgb(179,179,179)",
           "width": 1.5
          },
          "size": 15,
          "symbol": "line-ew"
         },
         "mode": "markers",
         "name": "Stair Tread",
         "text": [
          "<b>Stair Tread</b><br>The wide doorway of Intermediate II<br>date on the northern side of<br>the w ell- room in House<br>V was entirely occluded in this<br>period by a staircase, 3 ft.<br>6 ins. wide, rising to the<br>west, with treads 9.25 ins. broad<br>by 8 ins. high.^ The entrance<br>to the well-room at this time<br>was probably from the west though<br>that wall was badly damaged and<br>the actual position of the door<br>could not be ascertained. "
         ],
         "type": "scatter",
         "x": [
          [
           "7"
          ],
          [
           "05"
          ]
         ],
         "y": [
          -14.5
         ]
        },
        {
         "hovertemplate": "%{text}<extra></extra>",
         "legendgroup": "Drainage",
         "marker": {
          "line": {
           "color": "rgb(228,26,28)",
           "width": 1.5
          },
          "size": 5,
          "symbol": "y-up"
         },
         "mode": "markers",
         "name": "Drainage",
         "text": [
          "<b>Pottery - Jar</b><br>Inside the western doorway of room<br>50 of House IV was a<br>large pottery jar fed by a<br>little runnel (PI. XXXVII, b) made<br>of a partially scooped-out brick, that<br>seems never to have been covered<br>in. As this vessel was inside<br>the room and the liquid arrived<br>from outsidea most unusual arrangement we<br>must suppose that here we have<br>the remains of some apparatus for<br>brewing or perhaps, the preparation of<br>oil. The jar was not holed<br>as a drainage jar would have<br>been, and it was well made<br>and coated on the outside with<br>a thick red slip which would<br>prevent percolation.",
          "<b>Aperture</b><br>In House V a large expanse<br>of pavement round the well was<br>divided into two portions by a<br>thin partition wall, east of which<br>the pavement was 6 ins. lower<br>than on the west. This pavement<br>of exceptionally well cut bricks, 9.5x<br>4.7 X 1.9 ins. in size,<br>had the usual edging and sloped<br>down from the level  11.6ft.<br>towards the north-eastern corner, where the<br>water ran through a hole in<br>the eastern wall into the drain<br>in Low Lane outside. ",
          "<b>Drain</b><br>p.85. Along the northern side of<br>the passage 66 a well-preserved drain,<br>covered with bricks laid flatwise, sloped<br>towards the west. Its channel, 5<br>ins. wide by 6 ins. deep,<br>received the drainage from the bathroom<br>just described."
         ],
         "type": "scatter",
         "x": [
          [
           "7",
           "7",
           "7"
          ],
          [
           "04",
           "05",
           "03"
          ]
         ],
         "y": [
          -20.4,
          -9.9,
          -7
         ]
        },
        {
         "hovertemplate": "%{text}<extra></extra>",
         "legendgroup": "Water Platforms",
         "marker": {
          "line": {
           "color": "rgb(77,175,74)",
           "width": 1.5
          },
          "size": 5,
          "symbol": "y-up"
         },
         "mode": "markers",
         "name": "Water Platforms",
         "text": [
          "<b>Pavement</b><br>The little patch of paving (79)<br>at the level  18 ft.<br>is all that remains of either<br>a bathing-place or a privy which,<br>as so often at the present<br>day, was built at a slightly<br>higher level than the rest of<br>the house to allow of proper<br>drainage. Of the small house (III)<br>to the west of it practically<br>nothing remained.",
          "<b>Pavement</b><br>The wide doorway of Intermediate II<br>date on the northern side of<br>the wellroom in House V was<br>entirely occluded in this period by<br>a staircase, 3 ft. 6 ins.<br>wide, rising to the west, with<br>treads 9.25 ins. broad by 8<br>ins. high. The entrance to the<br>well-room at this time was probably<br>from the west though that wall<br>was badly damaged and the actual<br>position of the door could not<br>be ascertained. Against the eastern part<br>of the southern wall of this<br>well-room at the level  13.6<br>ft. were the remains of an<br>unusually fine pavement of two courses<br>of bricks 10.4 X 5.35x2 ins.<br>in size, laid on a 3<br>ft. 4 ins. thick layer of<br>kiln-refuse, which in turn rested on<br>a stratum of ash about half<br>an inch thick. This pavement was<br>carefully bordered with bricks set on<br>their shorter edges so as to<br>project 5-5 ins. above the floor<br>level. I do not think that<br>this thick layer of pottery kiln-refuse<br>was intended to drain the room;<br>it was merely used as a<br>convenient filling which would not be<br>liable to settle. Similar material was<br>quite frequently used for the foundations<br>of walls, especially in the Late<br>Period",
          "<b>Pavement</b><br>In House V a large expanse<br>of pavement round the well was<br>divided into two portions by a<br>thin partition wall, east of which<br>the pavement was 6 ins. lower<br>than on the west. This pavement<br>of exceptionally well cut bricks, 9.5x<br>4.7 X 1.9 ins. in size,<br>had the usual edging and sloped<br>down from the level  11.6ft.<br>towards the north-eastern corner, where the<br>water ran through a hole in<br>the eastern wall into the drain<br>in Low Lane outside. ",
          "<b>Pavement</b><br>p.85. The southern end of the<br>pavement was nearly 6 ins. above<br>the level of the northern end<br>and formed a square platform on<br>which the bather probably dried himself.<br>The thin walls that cut off<br>the N. W. corner of this<br>bathroom were only a few inches<br>high and judging from their well-preserved<br>copings were never any higher. Perhaps<br>the water jars were stored in<br>this corner."
         ],
         "type": "scatter",
         "x": [
          [
           "7",
           "7",
           "7",
           "7"
          ],
          [
           "04",
           "05",
           "05",
           "03"
          ]
         ],
         "y": [
          -18,
          -13,
          -11.6,
          -7
         ]
        },
        {
         "hovertemplate": "%{text}<extra></extra>",
         "legendgroup": "Well",
         "marker": {
          "line": {
           "color": "rgb(255,127,0)",
           "width": 1.5
          },
          "size": 5,
          "symbol": "y-up"
         },
         "mode": "markers",
         "name": "Well",
         "text": [
          "<b>Well</b><br>The well-room (77, 81), 16 ft.<br>long by 8 ft. wide, was<br>entered from the north and south<br>by two wide doorways whose sills<br>average 19 5 ft. below datum.<br>To the east of the well<br>was a carefully laid pavement at<br>the same level as the door-sills,<br>but it had sunk badly in<br>the centre. Shallow cavities in this<br>pavement worn by the dumping of<br>numberless water-jars show that this well-room<br>was in frequent use throughout a<br>lengthy period, and its separate entrance<br>from the lane to the south<br>suggests that the owner of the<br>house freely allowed his neighbours access<br>to his well. The spilt water<br>drained away into Low Lane through<br>a rectangular aperture in the eastern<br>wall.",
          "<b>Well</b><br>The wide doorway of Intermediate II<br>date on the northern side of<br>the wellroom in House V was<br>entirely occluded in this period by<br>a staircase, 3 ft. 6 ins.<br>wide, rising to the west, with<br>treads 9.25 ins. broad by 8<br>ins. high. The entrance to the<br>well-room at this time was probably<br>from the west though that wall<br>was badly damaged and the actual<br>position of the door could not<br>be ascertained. Against the eastern part<br>of the southern wall of this<br>well-room at the level  13.6<br>ft. were the remains of an<br>unusually fine pavement of two courses<br>of bricks 10.4 X 5.35x2 ins.<br>in size, laid on a 3<br>ft. 4 ins. thick layer of<br>kiln-refuse, which in turn rested on<br>a stratum of ash about half<br>an inch thick. This pavement was<br>carefully bordered with bricks set on<br>their shorter edges so as to<br>project 5-5 ins. above the floor<br>level. I do not think that<br>this thick layer of pottery kiln-refuse<br>was intended to drain the room;<br>it was merely used as a<br>convenient filling which would not be<br>liable to settle. Similar material was<br>quite frequently used for the foundations<br>of walls, especially in the Late<br>Period",
          "<b>Well</b><br>In House V a large expanse<br>of pavement round the well was<br>divided into two portions by a<br>thin partition wall, east of which<br>the pavement was 6 ins. lower<br>than on the west. This pavement<br>of exceptionally well cut bricks, 9.5x<br>4.7 X\n1.9 ins. in size, had<br>the usual edging and sloped down<br>from the level  11.6ft. towards<br>the north-eastern corner, where the water<br>ran through a hole in the<br>eastern wall into the drain in<br>Low Lane outside. "
         ],
         "type": "scatter",
         "x": [
          [
           "7",
           "7",
           "7"
          ],
          [
           "05",
           "05",
           "05"
          ]
         ],
         "y": [
          -19.5,
          -13,
          -9.9
         ]
        },
        {
         "mode": "text",
         "showlegend": false,
         "text": [
          "                  INTERMEDIATE I",
          "                  INTERMEDIATE III",
          "                  LATE  II AND I",
          "                  LATE III"
         ],
         "textfont": {
          "color": "grey",
          "family": "Tisa Sans Pro",
          "size": 8
         },
         "textposition": "middle right",
         "type": "scatter",
         "x": [
          "03",
          "03",
          "03",
          "03"
         ],
         "y": [
          -13,
          -19.3,
          -7,
          -10.466666666666667
         ]
        },
        {
         "hovertemplate": "%{text}<extra></extra>",
         "legendgroup": "Drainage",
         "marker": {
          "line": {
           "color": "rgb(228,26,28)",
           "width": 13
          },
          "size": 8,
          "symbol": "y-up"
         },
         "mode": "markers",
         "name": "Drainage",
         "text": [
          "<b>Pottery - Jar</b><br>Inside the western doorway of room<br>50 of House IV was a<br>large pottery jar fed by a<br>little runnel (PI. XXXVII, b) made<br>of a partially scooped-out brick, that<br>seems never to have been covered<br>in. As this vessel was inside<br>the room and the liquid arrived<br>from outsidea most unusual arrangement we<br>must suppose that here we have<br>the remains of some apparatus for<br>brewing or perhaps, the preparation of<br>oil. The jar was not holed<br>as a drainage jar would have<br>been, and it was well made<br>and coated on the outside with<br>a thick red slip which would<br>prevent percolation.",
          "<b>Aperture</b><br>In House V a large expanse<br>of pavement round the well was<br>divided into two portions by a<br>thin partition wall, east of which<br>the pavement was 6 ins. lower<br>than on the west. This pavement<br>of exceptionally well cut bricks, 9.5x<br>4.7 X 1.9 ins. in size,<br>had the usual edging and sloped<br>down from the level  11.6ft.<br>towards the north-eastern corner, where the<br>water ran through a hole in<br>the eastern wall into the drain<br>in Low Lane outside. ",
          "<b>Drain</b><br>p.85. Along the northern side of<br>the passage 66 a well-preserved drain,<br>covered with bricks laid flatwise, sloped<br>towards the west. Its channel, 5<br>ins. wide by 6 ins. deep,<br>received the drainage from the bathroom<br>just described."
         ],
         "type": "scatter",
         "x": [
          [
           "7",
           "7",
           "7"
          ],
          [
           "04",
           "05",
           "03"
          ]
         ],
         "y": [
          -20.4,
          -9.9,
          -7
         ]
        },
        {
         "hovertemplate": "%{text}<extra></extra>",
         "legendgroup": "Water Platforms",
         "marker": {
          "line": {
           "color": "rgb(77,175,74)",
           "width": 13
          },
          "size": 8,
          "symbol": "y-up"
         },
         "mode": "markers",
         "name": "Water Platforms",
         "text": [
          "<b>Pavement</b><br>The little patch of paving (79)<br>at the level  18 ft.<br>is all that remains of either<br>a bathing-place or a privy which,<br>as so often at the present<br>day, was built at a slightly<br>higher level than the rest of<br>the house to allow of proper<br>drainage. Of the small house (III)<br>to the west of it practically<br>nothing remained.",
          "<b>Pavement</b><br>The wide doorway of Intermediate II<br>date on the northern side of<br>the wellroom in House V was<br>entirely occluded in this period by<br>a staircase, 3 ft. 6 ins.<br>wide, rising to the west, with<br>treads 9.25 ins. broad by 8<br>ins. high. The entrance to the<br>well-room at this time was probably<br>from the west though that wall<br>was badly damaged and the actual<br>position of the door could not<br>be ascertained. Against the eastern part<br>of the southern wall of this<br>well-room at the level  13.6<br>ft. were the remains of an<br>unusually fine pavement of two courses<br>of bricks 10.4 X 5.35x2 ins.<br>in size, laid on a 3<br>ft. 4 ins. thick layer of<br>kiln-refuse, which in turn rested on<br>a stratum of ash about half<br>an inch thick. This pavement was<br>carefully bordered with bricks set on<br>their shorter edges so as to<br>project 5-5 ins. above the floor<br>level. I do not think that<br>this thick layer of pottery kiln-refuse<br>was intended to drain the room;<br>it was merely used as a<br>convenient filling which would not be<br>liable to settle. Similar material was<br>quite frequently used for the foundations<br>of walls, especially in the Late<br>Period",
          "<b>Pavement</b><br>In House V a large expanse<br>of pavement round the well was<br>divided into two portions by a<br>thin partition wall, east of which<br>the pavement was 6 ins. lower<br>than on the west. This pavement<br>of exceptionally well cut bricks, 9.5x<br>4.7 X 1.9 ins. in size,<br>had the usual edging and sloped<br>down from the level  11.6ft.<br>towards the north-eastern corner, where the<br>water ran through a hole in<br>the eastern wall into the drain<br>in Low Lane outside. ",
          "<b>Pavement</b><br>p.85. The southern end of the<br>pavement was nearly 6 ins. above<br>the level of the northern end<br>and formed a square platform on<br>which the bather probably dried himself.<br>The thin walls that cut off<br>the N. W. corner of this<br>bathroom were only a few inches<br>high and judging from their well-preserved<br>copings were never any higher. Perhaps<br>the water jars were stored in<br>this corner."
         ],
         "type": "scatter",
         "x": [
          [
           "7",
           "7",
           "7",
           "7"
          ],
          [
           "04",
           "05",
           "05",
           "03"
          ]
         ],
         "y": [
          -18,
          -13,
          -11.6,
          -7
         ]
        },
        {
         "hovertemplate": "%{text}<extra></extra>",
         "legendgroup": "Well",
         "marker": {
          "line": {
           "color": "rgb(255,127,0)",
           "width": 13
          },
          "size": 8,
          "symbol": "y-up"
         },
         "mode": "markers",
         "name": "Well",
         "text": [
          "<b>Well</b><br>The well-room (77, 81), 16 ft.<br>long by 8 ft. wide, was<br>entered from the north and south<br>by two wide doorways whose sills<br>average 19 5 ft. below datum.<br>To the east of the well<br>was a carefully laid pavement at<br>the same level as the door-sills,<br>but it had sunk badly in<br>the centre. Shallow cavities in this<br>pavement worn by the dumping of<br>numberless water-jars show that this well-room<br>was in frequent use throughout a<br>lengthy period, and its separate entrance<br>from the lane to the south<br>suggests that the owner of the<br>house freely allowed his neighbours access<br>to his well. The spilt water<br>drained away into Low Lane through<br>a rectangular aperture in the eastern<br>wall.",
          "<b>Well</b><br>The wide doorway of Intermediate II<br>date on the northern side of<br>the wellroom in House V was<br>entirely occluded in this period by<br>a staircase, 3 ft. 6 ins.<br>wide, rising to the west, with<br>treads 9.25 ins. broad by 8<br>ins. high. The entrance to the<br>well-room at this time was probably<br>from the west though that wall<br>was badly damaged and the actual<br>position of the door could not<br>be ascertained. Against the eastern part<br>of the southern wall of this<br>well-room at the level  13.6<br>ft. were the remains of an<br>unusually fine pavement of two courses<br>of bricks 10.4 X 5.35x2 ins.<br>in size, laid on a 3<br>ft. 4 ins. thick layer of<br>kiln-refuse, which in turn rested on<br>a stratum of ash about half<br>an inch thick. This pavement was<br>carefully bordered with bricks set on<br>their shorter edges so as to<br>project 5-5 ins. above the floor<br>level. I do not think that<br>this thick layer of pottery kiln-refuse<br>was intended to drain the room;<br>it was merely used as a<br>convenient filling which would not be<br>liable to settle. Similar material was<br>quite frequently used for the foundations<br>of walls, especially in the Late<br>Period",
          "<b>Well</b><br>In House V a large expanse<br>of pavement round the well was<br>divided into two portions by a<br>thin partition wall, east of which<br>the pavement was 6 ins. lower<br>than on the west. This pavement<br>of exceptionally well cut bricks, 9.5x<br>4.7 X\n1.9 ins. in size, had<br>the usual edging and sloped down<br>from the level  11.6ft. towards<br>the north-eastern corner, where the water<br>ran through a hole in the<br>eastern wall into the drain in<br>Low Lane outside. "
         ],
         "type": "scatter",
         "x": [
          [
           "7",
           "7",
           "7"
          ],
          [
           "05",
           "05",
           "05"
          ]
         ],
         "y": [
          -19.5,
          -13,
          -9.9
         ]
        },
        {
         "hovertemplate": "%{text}<extra></extra>",
         "legendgroup": "Drainage",
         "marker": {
          "line": {
           "color": "rgb(228,26,28)",
           "width": 13
          },
          "size": 8,
          "symbol": "y-up"
         },
         "mode": "markers",
         "name": "Drainage",
         "text": [
          "<b>Pottery - Jar</b><br>Inside the western doorway of room<br>50 of House IV was a<br>large pottery jar fed by a<br>little runnel (PI. XXXVII, b) made<br>of a partially scooped-out brick, that<br>seems never to have been covered<br>in. As this vessel was inside<br>the room and the liquid arrived<br>from outsidea most unusual arrangement we<br>must suppose that here we have<br>the remains of some apparatus for<br>brewing or perhaps, the preparation of<br>oil. The jar was not holed<br>as a drainage jar would have<br>been, and it was well made<br>and coated on the outside with<br>a thick red slip which would<br>prevent percolation.",
          "<b>Aperture</b><br>In House V a large expanse<br>of pavement round the well was<br>divided into two portions by a<br>thin partition wall, east of which<br>the pavement was 6 ins. lower<br>than on the west. This pavement<br>of exceptionally well cut bricks, 9.5x<br>4.7 X 1.9 ins. in size,<br>had the usual edging and sloped<br>down from the level  11.6ft.<br>towards the north-eastern corner, where the<br>water ran through a hole in<br>the eastern wall into the drain<br>in Low Lane outside. ",
          "<b>Drain</b><br>p.85. Along the northern side of<br>the passage 66 a well-preserved drain,<br>covered with bricks laid flatwise, sloped<br>towards the west. Its channel, 5<br>ins. wide by 6 ins. deep,<br>received the drainage from the bathroom<br>just described."
         ],
         "type": "scatter",
         "x": [
          [
           "7",
           "7",
           "7"
          ],
          [
           "04",
           "05",
           "03"
          ]
         ],
         "y": [
          -20.4,
          -9.9,
          -7
         ]
        },
        {
         "hovertemplate": "%{text}<extra></extra>",
         "legendgroup": "Water Platforms",
         "marker": {
          "line": {
           "color": "rgb(77,175,74)",
           "width": 13
          },
          "size": 8,
          "symbol": "y-up"
         },
         "mode": "markers",
         "name": "Water Platforms",
         "text": [
          "<b>Pavement</b><br>The little patch of paving (79)<br>at the level  18 ft.<br>is all that remains of either<br>a bathing-place or a privy which,<br>as so often at the present<br>day, was built at a slightly<br>higher level than the rest of<br>the house to allow of proper<br>drainage. Of the small house (III)<br>to the west of it practically<br>nothing remained.",
          "<b>Pavement</b><br>The wide doorway of Intermediate II<br>date on the northern side of<br>the wellroom in House V was<br>entirely occluded in this period by<br>a staircase, 3 ft. 6 ins.<br>wide, rising to the west, with<br>treads 9.25 ins. broad by 8<br>ins. high. The entrance to the<br>well-room at this time was probably<br>from the west though that wall<br>was badly damaged and the actual<br>position of the door could not<br>be ascertained. Against the eastern part<br>of the southern wall of this<br>well-room at the level  13.6<br>ft. were the remains of an<br>unusually fine pavement of two courses<br>of bricks 10.4 X 5.35x2 ins.<br>in size, laid on a 3<br>ft. 4 ins. thick layer of<br>kiln-refuse, which in turn rested on<br>a stratum of ash about half<br>an inch thick. This pavement was<br>carefully bordered with bricks set on<br>their shorter edges so as to<br>project 5-5 ins. above the floor<br>level. I do not think that<br>this thick layer of pottery kiln-refuse<br>was intended to drain the room;<br>it was merely used as a<br>convenient filling which would not be<br>liable to settle. Similar material was<br>quite frequently used for the foundations<br>of walls, especially in the Late<br>Period",
          "<b>Pavement</b><br>In House V a large expanse<br>of pavement round the well was<br>divided into two portions by a<br>thin partition wall, east of which<br>the pavement was 6 ins. lower<br>than on the west. This pavement<br>of exceptionally well cut bricks, 9.5x<br>4.7 X 1.9 ins. in size,<br>had the usual edging and sloped<br>down from the level  11.6ft.<br>towards the north-eastern corner, where the<br>water ran through a hole in<br>the eastern wall into the drain<br>in Low Lane outside. ",
          "<b>Pavement</b><br>p.85. The southern end of the<br>pavement was nearly 6 ins. above<br>the level of the northern end<br>and formed a square platform on<br>which the bather probably dried himself.<br>The thin walls that cut off<br>the N. W. corner of this<br>bathroom were only a few inches<br>high and judging from their well-preserved<br>copings were never any higher. Perhaps<br>the water jars were stored in<br>this corner."
         ],
         "type": "scatter",
         "x": [
          [
           "7",
           "7",
           "7",
           "7"
          ],
          [
           "04",
           "05",
           "05",
           "03"
          ]
         ],
         "y": [
          -18,
          -13,
          -11.6,
          -7
         ]
        },
        {
         "hovertemplate": "%{text}<extra></extra>",
         "legendgroup": "Well",
         "marker": {
          "line": {
           "color": "rgb(255,127,0)",
           "width": 13
          },
          "size": 8,
          "symbol": "y-up"
         },
         "mode": "markers",
         "name": "Well",
         "text": [
          "<b>Well</b><br>The well-room (77, 81), 16 ft.<br>long by 8 ft. wide, was<br>entered from the north and south<br>by two wide doorways whose sills<br>average 19 5 ft. below datum.<br>To the east of the well<br>was a carefully laid pavement at<br>the same level as the door-sills,<br>but it had sunk badly in<br>the centre. Shallow cavities in this<br>pavement worn by the dumping of<br>numberless water-jars show that this well-room<br>was in frequent use throughout a<br>lengthy period, and its separate entrance<br>from the lane to the south<br>suggests that the owner of the<br>house freely allowed his neighbours access<br>to his well. The spilt water<br>drained away into Low Lane through<br>a rectangular aperture in the eastern<br>wall.",
          "<b>Well</b><br>The wide doorway of Intermediate II<br>date on the northern side of<br>the wellroom in House V was<br>entirely occluded in this period by<br>a staircase, 3 ft. 6 ins.<br>wide, rising to the west, with<br>treads 9.25 ins. broad by 8<br>ins. high. The entrance to the<br>well-room at this time was probably<br>from the west though that wall<br>was badly damaged and the actual<br>position of the door could not<br>be ascertained. Against the eastern part<br>of the southern wall of this<br>well-room at the level  13.6<br>ft. were the remains of an<br>unusually fine pavement of two courses<br>of bricks 10.4 X 5.35x2 ins.<br>in size, laid on a 3<br>ft. 4 ins. thick layer of<br>kiln-refuse, which in turn rested on<br>a stratum of ash about half<br>an inch thick. This pavement was<br>carefully bordered with bricks set on<br>their shorter edges so as to<br>project 5-5 ins. above the floor<br>level. I do not think that<br>this thick layer of pottery kiln-refuse<br>was intended to drain the room;<br>it was merely used as a<br>convenient filling which would not be<br>liable to settle. Similar material was<br>quite frequently used for the foundations<br>of walls, especially in the Late<br>Period",
          "<b>Well</b><br>In House V a large expanse<br>of pavement round the well was<br>divided into two portions by a<br>thin partition wall, east of which<br>the pavement was 6 ins. lower<br>than on the west. This pavement<br>of exceptionally well cut bricks, 9.5x<br>4.7 X\n1.9 ins. in size, had<br>the usual edging and sloped down<br>from the level  11.6ft. towards<br>the north-eastern corner, where the water<br>ran through a hole in the<br>eastern wall into the drain in<br>Low Lane outside. "
         ],
         "type": "scatter",
         "x": [
          [
           "7",
           "7",
           "7"
          ],
          [
           "05",
           "05",
           "05"
          ]
         ],
         "y": [
          -19.5,
          -13,
          -9.9
         ]
        },
        {
         "mode": "text",
         "showlegend": false,
         "text": [
          "                  INTERMEDIATE I",
          "                  INTERMEDIATE III",
          "                  LATE  II AND I",
          "                  LATE III"
         ],
         "textfont": {
          "color": "grey",
          "family": "Tisa Sans Pro",
          "size": 8
         },
         "textposition": "middle right",
         "type": "scatter",
         "x": [
          "03",
          "03",
          "03",
          "03"
         ],
         "y": [
          -13,
          -19.3,
          -7,
          -10.466666666666667
         ]
        },
        {
         "hovertemplate": "%{text}<extra></extra>",
         "legendgroup": "Foundation",
         "marker": {
          "line": {
           "color": "rgb(102,194,165)",
           "width": 2.5
          },
          "size": 25,
          "symbol": "line-ew"
         },
         "mode": "markers",
         "name": "Foundation",
         "text": [
          "<b>Foundation</b><br>Mlost of the walls of Houses<br>III and IV rested either on<br>rubble foundations or, as was particularly<br>noticeable in House III, upon small<br>nodules of burnt brick which seem<br>to have been the refuse of<br>a kiln. This latter foundation material<br>has been noticed in other parts<br>of l\fohenjo-daro, and as it was<br>apparently au innovation in the Late<br>Period, it ,vill perhaps assist us<br>later in correlating the levels of<br>the buildings in the various areas.<br>The average base ]eve] of this<br>foundation layer is - 7·7 ft.<br>",
          "<b>Foundation</b><br>This building was of Late lb<br>date, for the foundations of its<br>thin walls ·were only 6 ·<br>I ft. below datum. In the<br>thin wall between rooms 48 and<br>41 were t-wo niches, 8 ins.<br>deep. At the ,vestern end of<br>41, two t,reads alone remained of<br>a very substantial stairway, 2 ft.<br>3 ins. wide. There was apparently<br>no doorway into chamber 40, and<br>it was possibly filled up with<br>rubble and used as a platform<br>to support one of a series<br>of npper rooms to which .access<br>was afforded by the stairway. "
         ],
         "type": "scatter",
         "x": [
          [
           "7",
           "7"
          ],
          [
           "03",
           "03"
          ]
         ],
         "y": [
          -7.7,
          -6.1
         ]
        },
        {
         "hovertemplate": "%{text}<extra></extra>",
         "legendgroup": "Niche",
         "marker": {
          "line": {
           "color": "rgb(141,160,203)",
           "width": 2.5
          },
          "size": 25,
          "symbol": "line-ew"
         },
         "mode": "markers",
         "name": "Niche",
         "text": [
          "<b>Niche</b><br>House IV which was fairly complete<br>was again self-contained and followed veiy<br>much the same plan as in<br>the previous period. Though the sills<br>of a row' of three niches,<br>2 ft. 9 ins. wide by<br>1 ft. 2 ins. deep, in<br>the northern w'all of the large<br>room 72 were an average of<br>13 -9 ft. below datum, it<br>is uncertain whether they should appear<br>in the Intermediate I plan or<br>that of the Intermediate II Phase.<br>It depends upon whether their sills<br>were at pavement level or above<br>it when made."
         ],
         "type": "scatter",
         "x": [
          [
           "7"
          ],
          [
           "04"
          ]
         ],
         "y": [
          -13.9
         ]
        },
        {
         "hovertemplate": "%{text}<extra></extra>",
         "legendgroup": "Doorsill",
         "marker": {
          "line": {
           "color": "rgb(166,216,84)",
           "width": 2.5
          },
          "size": 25,
          "symbol": "line-ew"
         },
         "mode": "markers",
         "name": "Doorsill",
         "text": [
          "<b>Doorsill</b><br>The badly ruined house (IV) which<br>was entered from Long Lane was<br>less substantially built. It appears to<br>be of slightlv earlier date than<br>Houses V and VII, as the<br>door sills were some 21-7ft. below<br>datum. ",
          "<b>Doorsill</b><br>The sill of the enhance to<br>the Western room (54) is^ <br>20-8 ft below datum, whereas the<br>sills of the eastern entrances were<br> 1 8  9 ft.<br>below datum.",
          "<b>Doorsill</b><br>The sill of the enhance to<br>the Western room (54) is^ <br>20-8 ft below datum, whereas the<br>sills of the eastern entrances were<br> 1 8  9 ft.<br>below datum.",
          "<b>Doorsill</b><br>An important house (V) with two<br>entrances from Low Lane.' ",
          "<b>Doorsill</b><br>The western portion of House V<br>was fairly well preserved. It seems<br>originally to have shared the whole<br>of the large court 52-4 with<br>House VIII; but later a portion<br>was partitioned off for the exclusive<br>use of Honse Y by a<br>thin wall which stood 1 ft.<br>3 ins. high when cleared, whose<br>foundations show it to have been<br>bnilt in the Late lb Phase.<br>The sills of the doorways in<br>this wall average 5 ft. below<br>datum. "
         ],
         "type": "scatter",
         "x": [
          [
           "7",
           "7",
           "7",
           "7",
           "7"
          ],
          [
           "04",
           "05",
           "05",
           "05",
           "05"
          ]
         ],
         "y": [
          -21.7,
          -18.9,
          -20.8,
          -21.1,
          -5
         ]
        },
        {
         "hovertemplate": "%{text}<extra></extra>",
         "legendgroup": "Pavement",
         "marker": {
          "line": {
           "color": "rgb(229,196,148)",
           "width": 2.5
          },
          "size": 25,
          "symbol": "line-ew"
         },
         "mode": "markers",
         "name": "Pavement",
         "text": [
          "<b>Pavement</b><br>Against the eastern part of the<br>southern wall of this well-room at<br>the level  13.6 ft. were<br>the remains of an unusually fine<br>pavement of two courses of bricks<br>10.4 X  5.35 x 2<br>ins. in size, laid on a<br>3 ft. 4 ins. thick layer<br>of kiln-refiise, which in turn rested<br>on a stratum of ash about<br>half an inch thick. This pavement<br>was care- fully bordered with bricks<br>set on their shorter edges so<br>as to project 5.5 ins. above<br>the floor level. I do not<br>think that this thick layer of<br>pottery kiln-refuse was intended to drain<br>the room. ; itwasmerelyusedasaconvenientfillingwhichwould not be<br>liable to settle. Similar material was<br>quite frequently used for the founda-tions<br>of walls, especially in the Late<br>Period.",
          "<b>Pavement</b><br>The ablution pavement in room 64,<br>65, 67 sloped to the north,<br>where it was about 5·8 ft.<br>below datum, and it was bordered<br>all round with bricks set on<br>edge to project about 2 ·<br>5 ins. above the pavement. The<br>southern end of the pavement was<br>nearly 6 ins. above the leYel<br>of the northern end and formed<br>a square platform on which the<br>bather probably dried himself. The thin<br>walls that cut off the N.<br>,v. corner of this bathroom were<br>only a few inches high and<br>judging from their well-preserved copings were<br>never any higher. Perhaps the water­jars<br>were stored in this corner. "
         ],
         "type": "scatter",
         "x": [
          [
           "7",
           "7"
          ],
          [
           "05",
           "05"
          ]
         ],
         "y": [
          -13.6,
          -5.8
         ]
        },
        {
         "hovertemplate": "%{text}<extra></extra>",
         "legendgroup": "Stair Tread",
         "marker": {
          "line": {
           "color": "rgb(179,179,179)",
           "width": 2.5
          },
          "size": 25,
          "symbol": "line-ew"
         },
         "mode": "markers",
         "name": "Stair Tread",
         "text": [
          "<b>Stair Tread</b><br>The wide doorway of Intermediate II<br>date on the northern side of<br>the w ell- room in House<br>V was entirely occluded in this<br>period by a staircase, 3 ft.<br>6 ins. wide, rising to the<br>west, with treads 9.25 ins. broad<br>by 8 ins. high.^ The entrance<br>to the well-room at this time<br>was probably from the west though<br>that wall was badly damaged and<br>the actual position of the door<br>could not be ascertained. "
         ],
         "type": "scatter",
         "x": [
          [
           "7"
          ],
          [
           "05"
          ]
         ],
         "y": [
          -14.5
         ]
        },
        {
         "mode": "text",
         "showlegend": false,
         "text": [
          "                  INTERMEDIATE I",
          "                  INTERMEDIATE III",
          "                  LATE  II AND I",
          "                  LATE III"
         ],
         "textfont": {
          "color": "grey",
          "family": "Tisa Sans Pro",
          "size": 8
         },
         "textposition": "middle right",
         "type": "scatter",
         "x": [
          "03",
          "03",
          "03",
          "03"
         ],
         "y": [
          -13,
          -19.3,
          -7,
          -10.466666666666667
         ]
        },
        {
         "mode": "text",
         "showlegend": false,
         "text": [
          "                  INTERMEDIATE I",
          "                  INTERMEDIATE III",
          "                  LATE  II AND I",
          "                  LATE III"
         ],
         "textfont": {
          "color": "grey",
          "family": "Tisa Sans Pro",
          "size": 8
         },
         "textposition": "middle right",
         "type": "scatter",
         "x": [
          "03",
          "03",
          "03",
          "03"
         ],
         "y": [
          -13,
          -19.3,
          -7,
          -10.466666666666667
         ]
        }
       ],
       "layout": {
        "dragmode": "zoom",
        "height": 800,
        "hoverdistance": 60,
        "hoverlabel": {
         "bgcolor": "white",
         "font": {
          "family": "Corbel",
          "size": 11
         }
        },
        "hovermode": "closest",
        "margin": {
         "b": 80,
         "l": 50,
         "pad": 25,
         "r": 50,
         "t": 100
        },
        "paper_bgcolor": "#ebebea",
        "plot_bgcolor": "#ebebea",
        "showlegend": true,
        "template": {
         "data": {
          "bar": [
           {
            "error_x": {
             "color": "#2a3f5f"
            },
            "error_y": {
             "color": "#2a3f5f"
            },
            "marker": {
             "line": {
              "color": "#E5ECF6",
              "width": 0.5
             },
             "pattern": {
              "fillmode": "overlay",
              "size": 10,
              "solidity": 0.2
             }
            },
            "type": "bar"
           }
          ],
          "barpolar": [
           {
            "marker": {
             "line": {
              "color": "#E5ECF6",
              "width": 0.5
             },
             "pattern": {
              "fillmode": "overlay",
              "size": 10,
              "solidity": 0.2
             }
            },
            "type": "barpolar"
           }
          ],
          "carpet": [
           {
            "aaxis": {
             "endlinecolor": "#2a3f5f",
             "gridcolor": "white",
             "linecolor": "white",
             "minorgridcolor": "white",
             "startlinecolor": "#2a3f5f"
            },
            "baxis": {
             "endlinecolor": "#2a3f5f",
             "gridcolor": "white",
             "linecolor": "white",
             "minorgridcolor": "white",
             "startlinecolor": "#2a3f5f"
            },
            "type": "carpet"
           }
          ],
          "choropleth": [
           {
            "colorbar": {
             "outlinewidth": 0,
             "ticks": ""
            },
            "type": "choropleth"
           }
          ],
          "contour": [
           {
            "colorbar": {
             "outlinewidth": 0,
             "ticks": ""
            },
            "colorscale": [
             [
              0,
              "#0d0887"
             ],
             [
              0.1111111111111111,
              "#46039f"
             ],
             [
              0.2222222222222222,
              "#7201a8"
             ],
             [
              0.3333333333333333,
              "#9c179e"
             ],
             [
              0.4444444444444444,
              "#bd3786"
             ],
             [
              0.5555555555555556,
              "#d8576b"
             ],
             [
              0.6666666666666666,
              "#ed7953"
             ],
             [
              0.7777777777777778,
              "#fb9f3a"
             ],
             [
              0.8888888888888888,
              "#fdca26"
             ],
             [
              1,
              "#f0f921"
             ]
            ],
            "type": "contour"
           }
          ],
          "contourcarpet": [
           {
            "colorbar": {
             "outlinewidth": 0,
             "ticks": ""
            },
            "type": "contourcarpet"
           }
          ],
          "heatmap": [
           {
            "colorbar": {
             "outlinewidth": 0,
             "ticks": ""
            },
            "colorscale": [
             [
              0,
              "#0d0887"
             ],
             [
              0.1111111111111111,
              "#46039f"
             ],
             [
              0.2222222222222222,
              "#7201a8"
             ],
             [
              0.3333333333333333,
              "#9c179e"
             ],
             [
              0.4444444444444444,
              "#bd3786"
             ],
             [
              0.5555555555555556,
              "#d8576b"
             ],
             [
              0.6666666666666666,
              "#ed7953"
             ],
             [
              0.7777777777777778,
              "#fb9f3a"
             ],
             [
              0.8888888888888888,
              "#fdca26"
             ],
             [
              1,
              "#f0f921"
             ]
            ],
            "type": "heatmap"
           }
          ],
          "heatmapgl": [
           {
            "colorbar": {
             "outlinewidth": 0,
             "ticks": ""
            },
            "colorscale": [
             [
              0,
              "#0d0887"
             ],
             [
              0.1111111111111111,
              "#46039f"
             ],
             [
              0.2222222222222222,
              "#7201a8"
             ],
             [
              0.3333333333333333,
              "#9c179e"
             ],
             [
              0.4444444444444444,
              "#bd3786"
             ],
             [
              0.5555555555555556,
              "#d8576b"
             ],
             [
              0.6666666666666666,
              "#ed7953"
             ],
             [
              0.7777777777777778,
              "#fb9f3a"
             ],
             [
              0.8888888888888888,
              "#fdca26"
             ],
             [
              1,
              "#f0f921"
             ]
            ],
            "type": "heatmapgl"
           }
          ],
          "histogram": [
           {
            "marker": {
             "pattern": {
              "fillmode": "overlay",
              "size": 10,
              "solidity": 0.2
             }
            },
            "type": "histogram"
           }
          ],
          "histogram2d": [
           {
            "colorbar": {
             "outlinewidth": 0,
             "ticks": ""
            },
            "colorscale": [
             [
              0,
              "#0d0887"
             ],
             [
              0.1111111111111111,
              "#46039f"
             ],
             [
              0.2222222222222222,
              "#7201a8"
             ],
             [
              0.3333333333333333,
              "#9c179e"
             ],
             [
              0.4444444444444444,
              "#bd3786"
             ],
             [
              0.5555555555555556,
              "#d8576b"
             ],
             [
              0.6666666666666666,
              "#ed7953"
             ],
             [
              0.7777777777777778,
              "#fb9f3a"
             ],
             [
              0.8888888888888888,
              "#fdca26"
             ],
             [
              1,
              "#f0f921"
             ]
            ],
            "type": "histogram2d"
           }
          ],
          "histogram2dcontour": [
           {
            "colorbar": {
             "outlinewidth": 0,
             "ticks": ""
            },
            "colorscale": [
             [
              0,
              "#0d0887"
             ],
             [
              0.1111111111111111,
              "#46039f"
             ],
             [
              0.2222222222222222,
              "#7201a8"
             ],
             [
              0.3333333333333333,
              "#9c179e"
             ],
             [
              0.4444444444444444,
              "#bd3786"
             ],
             [
              0.5555555555555556,
              "#d8576b"
             ],
             [
              0.6666666666666666,
              "#ed7953"
             ],
             [
              0.7777777777777778,
              "#fb9f3a"
             ],
             [
              0.8888888888888888,
              "#fdca26"
             ],
             [
              1,
              "#f0f921"
             ]
            ],
            "type": "histogram2dcontour"
           }
          ],
          "mesh3d": [
           {
            "colorbar": {
             "outlinewidth": 0,
             "ticks": ""
            },
            "type": "mesh3d"
           }
          ],
          "parcoords": [
           {
            "line": {
             "colorbar": {
              "outlinewidth": 0,
              "ticks": ""
             }
            },
            "type": "parcoords"
           }
          ],
          "pie": [
           {
            "automargin": true,
            "type": "pie"
           }
          ],
          "scatter": [
           {
            "fillpattern": {
             "fillmode": "overlay",
             "size": 10,
             "solidity": 0.2
            },
            "type": "scatter"
           }
          ],
          "scatter3d": [
           {
            "line": {
             "colorbar": {
              "outlinewidth": 0,
              "ticks": ""
             }
            },
            "marker": {
             "colorbar": {
              "outlinewidth": 0,
              "ticks": ""
             }
            },
            "type": "scatter3d"
           }
          ],
          "scattercarpet": [
           {
            "marker": {
             "colorbar": {
              "outlinewidth": 0,
              "ticks": ""
             }
            },
            "type": "scattercarpet"
           }
          ],
          "scattergeo": [
           {
            "marker": {
             "colorbar": {
              "outlinewidth": 0,
              "ticks": ""
             }
            },
            "type": "scattergeo"
           }
          ],
          "scattergl": [
           {
            "marker": {
             "colorbar": {
              "outlinewidth": 0,
              "ticks": ""
             }
            },
            "type": "scattergl"
           }
          ],
          "scattermapbox": [
           {
            "marker": {
             "colorbar": {
              "outlinewidth": 0,
              "ticks": ""
             }
            },
            "type": "scattermapbox"
           }
          ],
          "scatterpolar": [
           {
            "marker": {
             "colorbar": {
              "outlinewidth": 0,
              "ticks": ""
             }
            },
            "type": "scatterpolar"
           }
          ],
          "scatterpolargl": [
           {
            "marker": {
             "colorbar": {
              "outlinewidth": 0,
              "ticks": ""
             }
            },
            "type": "scatterpolargl"
           }
          ],
          "scatterternary": [
           {
            "marker": {
             "colorbar": {
              "outlinewidth": 0,
              "ticks": ""
             }
            },
            "type": "scatterternary"
           }
          ],
          "surface": [
           {
            "colorbar": {
             "outlinewidth": 0,
             "ticks": ""
            },
            "colorscale": [
             [
              0,
              "#0d0887"
             ],
             [
              0.1111111111111111,
              "#46039f"
             ],
             [
              0.2222222222222222,
              "#7201a8"
             ],
             [
              0.3333333333333333,
              "#9c179e"
             ],
             [
              0.4444444444444444,
              "#bd3786"
             ],
             [
              0.5555555555555556,
              "#d8576b"
             ],
             [
              0.6666666666666666,
              "#ed7953"
             ],
             [
              0.7777777777777778,
              "#fb9f3a"
             ],
             [
              0.8888888888888888,
              "#fdca26"
             ],
             [
              1,
              "#f0f921"
             ]
            ],
            "type": "surface"
           }
          ],
          "table": [
           {
            "cells": {
             "fill": {
              "color": "#EBF0F8"
             },
             "line": {
              "color": "white"
             }
            },
            "header": {
             "fill": {
              "color": "#C8D4E3"
             },
             "line": {
              "color": "white"
             }
            },
            "type": "table"
           }
          ]
         },
         "layout": {
          "annotationdefaults": {
           "arrowcolor": "#2a3f5f",
           "arrowhead": 0,
           "arrowwidth": 1
          },
          "autotypenumbers": "strict",
          "coloraxis": {
           "colorbar": {
            "outlinewidth": 0,
            "ticks": ""
           }
          },
          "colorscale": {
           "diverging": [
            [
             0,
             "#8e0152"
            ],
            [
             0.1,
             "#c51b7d"
            ],
            [
             0.2,
             "#de77ae"
            ],
            [
             0.3,
             "#f1b6da"
            ],
            [
             0.4,
             "#fde0ef"
            ],
            [
             0.5,
             "#f7f7f7"
            ],
            [
             0.6,
             "#e6f5d0"
            ],
            [
             0.7,
             "#b8e186"
            ],
            [
             0.8,
             "#7fbc41"
            ],
            [
             0.9,
             "#4d9221"
            ],
            [
             1,
             "#276419"
            ]
           ],
           "sequential": [
            [
             0,
             "#0d0887"
            ],
            [
             0.1111111111111111,
             "#46039f"
            ],
            [
             0.2222222222222222,
             "#7201a8"
            ],
            [
             0.3333333333333333,
             "#9c179e"
            ],
            [
             0.4444444444444444,
             "#bd3786"
            ],
            [
             0.5555555555555556,
             "#d8576b"
            ],
            [
             0.6666666666666666,
             "#ed7953"
            ],
            [
             0.7777777777777778,
             "#fb9f3a"
            ],
            [
             0.8888888888888888,
             "#fdca26"
            ],
            [
             1,
             "#f0f921"
            ]
           ],
           "sequentialminus": [
            [
             0,
             "#0d0887"
            ],
            [
             0.1111111111111111,
             "#46039f"
            ],
            [
             0.2222222222222222,
             "#7201a8"
            ],
            [
             0.3333333333333333,
             "#9c179e"
            ],
            [
             0.4444444444444444,
             "#bd3786"
            ],
            [
             0.5555555555555556,
             "#d8576b"
            ],
            [
             0.6666666666666666,
             "#ed7953"
            ],
            [
             0.7777777777777778,
             "#fb9f3a"
            ],
            [
             0.8888888888888888,
             "#fdca26"
            ],
            [
             1,
             "#f0f921"
            ]
           ]
          },
          "colorway": [
           "#636efa",
           "#EF553B",
           "#00cc96",
           "#ab63fa",
           "#FFA15A",
           "#19d3f3",
           "#FF6692",
           "#B6E880",
           "#FF97FF",
           "#FECB52"
          ],
          "font": {
           "color": "#2a3f5f"
          },
          "geo": {
           "bgcolor": "white",
           "lakecolor": "white",
           "landcolor": "#E5ECF6",
           "showlakes": true,
           "showland": true,
           "subunitcolor": "white"
          },
          "hoverlabel": {
           "align": "left"
          },
          "hovermode": "closest",
          "mapbox": {
           "style": "light"
          },
          "paper_bgcolor": "white",
          "plot_bgcolor": "#E5ECF6",
          "polar": {
           "angularaxis": {
            "gridcolor": "white",
            "linecolor": "white",
            "ticks": ""
           },
           "bgcolor": "#E5ECF6",
           "radialaxis": {
            "gridcolor": "white",
            "linecolor": "white",
            "ticks": ""
           }
          },
          "scene": {
           "xaxis": {
            "backgroundcolor": "#E5ECF6",
            "gridcolor": "white",
            "gridwidth": 2,
            "linecolor": "white",
            "showbackground": true,
            "ticks": "",
            "zerolinecolor": "white"
           },
           "yaxis": {
            "backgroundcolor": "#E5ECF6",
            "gridcolor": "white",
            "gridwidth": 2,
            "linecolor": "white",
            "showbackground": true,
            "ticks": "",
            "zerolinecolor": "white"
           },
           "zaxis": {
            "backgroundcolor": "#E5ECF6",
            "gridcolor": "white",
            "gridwidth": 2,
            "linecolor": "white",
            "showbackground": true,
            "ticks": "",
            "zerolinecolor": "white"
           }
          },
          "shapedefaults": {
           "line": {
            "color": "#2a3f5f"
           }
          },
          "ternary": {
           "aaxis": {
            "gridcolor": "white",
            "linecolor": "white",
            "ticks": ""
           },
           "baxis": {
            "gridcolor": "white",
            "linecolor": "white",
            "ticks": ""
           },
           "bgcolor": "#E5ECF6",
           "caxis": {
            "gridcolor": "white",
            "linecolor": "white",
            "ticks": ""
           }
          },
          "title": {
           "x": 0.05
          },
          "xaxis": {
           "automargin": true,
           "gridcolor": "white",
           "linecolor": "white",
           "ticks": "",
           "title": {
            "standoff": 15
           },
           "zerolinecolor": "white",
           "zerolinewidth": 2
          },
          "yaxis": {
           "automargin": true,
           "gridcolor": "white",
           "linecolor": "white",
           "ticks": "",
           "title": {
            "standoff": 15
           },
           "zerolinecolor": "white",
           "zerolinewidth": 2
          }
         }
        },
        "title": {
         "text": "Block 7, Houses 3, 4 & 5 Artefact and Floor / Water Features"
        },
        "width": 600,
        "xaxis": {
         "gridcolor": "rgb(255, 255, 255,0.5)",
         "showgrid": true
        },
        "yaxis": {
         "gridcolor": "rgb(255, 255, 255,0.5)",
         "gridwidth": 0.1
        }
       }
      }
     },
     "metadata": {},
     "output_type": "display_data"
    }
   ],
   "source": [
    "#LAYOUT\n",
    "ff.update_layout( #Style Layout\n",
    "    width = 600 , height = 800 ,\n",
    "    hoverlabel=dict(\n",
    "        bgcolor=\"white\", \n",
    "        font_size=11, \n",
    "        font_family=\"Corbel\"\n",
    "    ),\n",
    "    showlegend=True,\n",
    "    dragmode = 'zoom',\n",
    "    hovermode = 'closest',\n",
    "    hoverdistance = 60,\n",
    "    plot_bgcolor = '#ebebea',\n",
    "    paper_bgcolor = '#ebebea',\n",
    "    title = 'Block 7, Houses 3, 4 & 5 Artefact and Floor / Water Features',\n",
    "    margin=dict(l=50,r=50,b=80,t=100, pad=25 ),\n",
    "    xaxis = dict(\n",
    "        gridcolor = \"rgb(255, 255, 255,0.5)\",\n",
    "        showgrid = True),\n",
    "    yaxis = dict(\n",
    "        gridcolor = \"rgb(255, 255, 255,0.5)\",\n",
    "        gridwidth = 0.1)\n",
    "    )\n",
    "\n",
    "ff.show()"
   ]
  },
  {
   "cell_type": "code",
   "execution_count": 72,
   "metadata": {},
   "outputs": [],
   "source": [
    "# Write figure to HTML, for offline use.  \n",
    "ff.write_html(r'/Users/saraeichner/Desktop/github/mohenjo-daro/112424_LIAVH_bl7_hs3-4-5_plot.html')"
   ]
  }
 ],
 "metadata": {
  "kernelspec": {
   "display_name": "geospatial2023",
   "language": "python",
   "name": "python3"
  },
  "language_info": {
   "codemirror_mode": {
    "name": "ipython",
    "version": 3
   },
   "file_extension": ".py",
   "mimetype": "text/x-python",
   "name": "python",
   "nbconvert_exporter": "python",
   "pygments_lexer": "ipython3",
   "version": "3.11.0"
  }
 },
 "nbformat": 4,
 "nbformat_minor": 2
}
